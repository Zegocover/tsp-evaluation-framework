{
 "cells": [
  {
   "cell_type": "markdown",
   "id": "cd10ca48-1372-4ddf-bbf7-1e9577cb903b",
   "metadata": {},
   "source": [
    "# HHDriveright TSP Data Quality Assessment (SS, Oct 2021)"
   ]
  },
  {
   "cell_type": "code",
   "execution_count": 1,
   "id": "fa50aba4-7722-4ef1-b3fc-194ed664794d",
   "metadata": {},
   "outputs": [],
   "source": [
    "# Import libraries\n",
    "import numpy as np\n",
    "import pandas as pd\n",
    "import datetime\n",
    "import getpass\n",
    "import psycopg2\n",
    "import os\n",
    "import matplotlib.pyplot as plt\n",
    "import matplotlib.cm as cm\n",
    "import matplotlib.colors\n",
    "# from tqdm import tqdm\n",
    "import seaborn as sns"
   ]
  },
  {
   "cell_type": "markdown",
   "id": "5bc15d9e-76fe-4bd9-84d4-75e14748228c",
   "metadata": {},
   "source": [
    "# 1. HHDriveright Data"
   ]
  },
  {
   "cell_type": "code",
   "execution_count": 5,
   "id": "e29e4ab9-0673-4b8f-a3f9-dcc10c4de7a0",
   "metadata": {},
   "outputs": [],
   "source": [
    "# Define variables\n",
    "hhdriveright_data_path = '/Users/sven.sabas/projects/tsp-evaluation-framework/data/source/hhdriveright'\n",
    "hhdriveright_data_files = [os.path.join(hhdriveright_data_path, file) for file in os.listdir(hhdriveright_data_path) if file.endswith('.csv')] "
   ]
  },
  {
   "cell_type": "code",
   "execution_count": 11,
   "id": "f84ab08b-efc1-43c9-9307-1d2bca7ed19f",
   "metadata": {},
   "outputs": [
    {
     "name": "stderr",
     "output_type": "stream",
     "text": [
      "/var/folders/vn/5qd8cddx42ng5dz9pxrkw23m0000gy/T/ipykernel_72396/4201282035.py:2: DtypeWarning: Columns (13,18,27,29,34,36,37,38,39,40,41,42,43,44,45,46,47,50,51,52,55,58) have mixed types.Specify dtype option on import or set low_memory=False.\n",
      "  hhdriveright_data_df = pd.concat([pd.read_csv(file, delimiter=',') for file in hhdriveright_data_files], ignore_index = True)\n"
     ]
    },
    {
     "data": {
      "text/html": [
       "<div>\n",
       "<style scoped>\n",
       "    .dataframe tbody tr th:only-of-type {\n",
       "        vertical-align: middle;\n",
       "    }\n",
       "\n",
       "    .dataframe tbody tr th {\n",
       "        vertical-align: top;\n",
       "    }\n",
       "\n",
       "    .dataframe thead th {\n",
       "        text-align: right;\n",
       "    }\n",
       "</style>\n",
       "<table border=\"1\" class=\"dataframe\">\n",
       "  <thead>\n",
       "    <tr style=\"text-align: right;\">\n",
       "      <th></th>\n",
       "      <th>Time</th>\n",
       "      <th>Received</th>\n",
       "      <th>Active</th>\n",
       "      <th>Lat</th>\n",
       "      <th>Lon</th>\n",
       "      <th>Altitude</th>\n",
       "      <th>Accuracy</th>\n",
       "      <th>Location</th>\n",
       "      <th>Speed</th>\n",
       "      <th>Speed Limit</th>\n",
       "      <th>...</th>\n",
       "      <th>Unnamed: 56</th>\n",
       "      <th>Unnamed: 57</th>\n",
       "      <th>Unnamed: 58</th>\n",
       "      <th>Unnamed: 59</th>\n",
       "      <th>Unnamed: 60</th>\n",
       "      <th>Unnamed: 61</th>\n",
       "      <th>Unnamed: 62</th>\n",
       "      <th>Unnamed: 63</th>\n",
       "      <th>Unnamed: 64</th>\n",
       "      <th>Unnamed: 65</th>\n",
       "    </tr>\n",
       "  </thead>\n",
       "  <tbody>\n",
       "    <tr>\n",
       "      <th>0</th>\n",
       "      <td>2021-08-20T23:02:48.000Z</td>\n",
       "      <td>2021-08-20T23:02:52.000Z</td>\n",
       "      <td>True</td>\n",
       "      <td>54.686113</td>\n",
       "      <td>-1.221948</td>\n",
       "      <td>21</td>\n",
       "      <td>11</td>\n",
       "      <td>Milton Road, Hartlepool, TS26 8DS, England</td>\n",
       "      <td>0</td>\n",
       "      <td>NaN</td>\n",
       "      <td>...</td>\n",
       "      <td>NaN</td>\n",
       "      <td>NaN</td>\n",
       "      <td>NaN</td>\n",
       "      <td>NaN</td>\n",
       "      <td>NaN</td>\n",
       "      <td>NaN</td>\n",
       "      <td>NaN</td>\n",
       "      <td>NaN</td>\n",
       "      <td>NaN</td>\n",
       "      <td>NaN</td>\n",
       "    </tr>\n",
       "    <tr>\n",
       "      <th>1</th>\n",
       "      <td>2021-08-20T23:07:49.000Z</td>\n",
       "      <td>2021-08-20T23:07:51.000Z</td>\n",
       "      <td>True</td>\n",
       "      <td>54.686203</td>\n",
       "      <td>-1.221888</td>\n",
       "      <td>20</td>\n",
       "      <td>12</td>\n",
       "      <td>Milton Road, Hartlepool, TS26 8DS, England</td>\n",
       "      <td>0</td>\n",
       "      <td>NaN</td>\n",
       "      <td>...</td>\n",
       "      <td>NaN</td>\n",
       "      <td>NaN</td>\n",
       "      <td>NaN</td>\n",
       "      <td>NaN</td>\n",
       "      <td>NaN</td>\n",
       "      <td>NaN</td>\n",
       "      <td>NaN</td>\n",
       "      <td>NaN</td>\n",
       "      <td>NaN</td>\n",
       "      <td>NaN</td>\n",
       "    </tr>\n",
       "    <tr>\n",
       "      <th>2</th>\n",
       "      <td>2021-08-20T23:12:49.000Z</td>\n",
       "      <td>2021-08-20T23:12:52.000Z</td>\n",
       "      <td>True</td>\n",
       "      <td>54.686203</td>\n",
       "      <td>-1.221888</td>\n",
       "      <td>20</td>\n",
       "      <td>12</td>\n",
       "      <td>Milton Road, Hartlepool, TS26 8DS, England</td>\n",
       "      <td>0</td>\n",
       "      <td>NaN</td>\n",
       "      <td>...</td>\n",
       "      <td>NaN</td>\n",
       "      <td>NaN</td>\n",
       "      <td>NaN</td>\n",
       "      <td>NaN</td>\n",
       "      <td>NaN</td>\n",
       "      <td>NaN</td>\n",
       "      <td>NaN</td>\n",
       "      <td>NaN</td>\n",
       "      <td>NaN</td>\n",
       "      <td>NaN</td>\n",
       "    </tr>\n",
       "    <tr>\n",
       "      <th>3</th>\n",
       "      <td>2021-08-20T23:17:50.000Z</td>\n",
       "      <td>2021-08-20T23:17:54.000Z</td>\n",
       "      <td>True</td>\n",
       "      <td>54.686295</td>\n",
       "      <td>-1.221872</td>\n",
       "      <td>23</td>\n",
       "      <td>12</td>\n",
       "      <td>Milton Road, Hartlepool, TS26 8DS, England</td>\n",
       "      <td>0</td>\n",
       "      <td>NaN</td>\n",
       "      <td>...</td>\n",
       "      <td>NaN</td>\n",
       "      <td>NaN</td>\n",
       "      <td>NaN</td>\n",
       "      <td>NaN</td>\n",
       "      <td>NaN</td>\n",
       "      <td>NaN</td>\n",
       "      <td>NaN</td>\n",
       "      <td>NaN</td>\n",
       "      <td>NaN</td>\n",
       "      <td>NaN</td>\n",
       "    </tr>\n",
       "    <tr>\n",
       "      <th>4</th>\n",
       "      <td>2021-08-20T23:22:50.000Z</td>\n",
       "      <td>2021-08-20T23:22:52.000Z</td>\n",
       "      <td>True</td>\n",
       "      <td>54.686295</td>\n",
       "      <td>-1.221872</td>\n",
       "      <td>23</td>\n",
       "      <td>12</td>\n",
       "      <td>Milton Road, Hartlepool, TS26 8DS, England</td>\n",
       "      <td>0</td>\n",
       "      <td>NaN</td>\n",
       "      <td>...</td>\n",
       "      <td>NaN</td>\n",
       "      <td>NaN</td>\n",
       "      <td>NaN</td>\n",
       "      <td>NaN</td>\n",
       "      <td>NaN</td>\n",
       "      <td>NaN</td>\n",
       "      <td>NaN</td>\n",
       "      <td>NaN</td>\n",
       "      <td>NaN</td>\n",
       "      <td>NaN</td>\n",
       "    </tr>\n",
       "    <tr>\n",
       "      <th>...</th>\n",
       "      <td>...</td>\n",
       "      <td>...</td>\n",
       "      <td>...</td>\n",
       "      <td>...</td>\n",
       "      <td>...</td>\n",
       "      <td>...</td>\n",
       "      <td>...</td>\n",
       "      <td>...</td>\n",
       "      <td>...</td>\n",
       "      <td>...</td>\n",
       "      <td>...</td>\n",
       "      <td>...</td>\n",
       "      <td>...</td>\n",
       "      <td>...</td>\n",
       "      <td>...</td>\n",
       "      <td>...</td>\n",
       "      <td>...</td>\n",
       "      <td>...</td>\n",
       "      <td>...</td>\n",
       "      <td>...</td>\n",
       "      <td>...</td>\n",
       "    </tr>\n",
       "    <tr>\n",
       "      <th>349458</th>\n",
       "      <td>2021-08-28T18:33:02.000Z</td>\n",
       "      <td>2021-08-28T18:33:05.000Z</td>\n",
       "      <td>False</td>\n",
       "      <td>53.835498</td>\n",
       "      <td>-1.204398</td>\n",
       "      <td>9</td>\n",
       "      <td>20</td>\n",
       "      <td>LS24 9SE, England</td>\n",
       "      <td>0</td>\n",
       "      <td>NaN</td>\n",
       "      <td>...</td>\n",
       "      <td>NaN</td>\n",
       "      <td>NaN</td>\n",
       "      <td>NaN</td>\n",
       "      <td>NaN</td>\n",
       "      <td>NaN</td>\n",
       "      <td>NaN</td>\n",
       "      <td>NaN</td>\n",
       "      <td>NaN</td>\n",
       "      <td>NaN</td>\n",
       "      <td>NaN</td>\n",
       "    </tr>\n",
       "    <tr>\n",
       "      <th>349459</th>\n",
       "      <td>2021-08-28T19:33:08.000Z</td>\n",
       "      <td>2021-08-28T19:33:11.000Z</td>\n",
       "      <td>False</td>\n",
       "      <td>53.835498</td>\n",
       "      <td>-1.204398</td>\n",
       "      <td>9</td>\n",
       "      <td>17</td>\n",
       "      <td>LS24 9SE, England</td>\n",
       "      <td>0</td>\n",
       "      <td>NaN</td>\n",
       "      <td>...</td>\n",
       "      <td>NaN</td>\n",
       "      <td>NaN</td>\n",
       "      <td>NaN</td>\n",
       "      <td>NaN</td>\n",
       "      <td>NaN</td>\n",
       "      <td>NaN</td>\n",
       "      <td>NaN</td>\n",
       "      <td>NaN</td>\n",
       "      <td>NaN</td>\n",
       "      <td>NaN</td>\n",
       "    </tr>\n",
       "    <tr>\n",
       "      <th>349460</th>\n",
       "      <td>2021-08-28T20:33:15.000Z</td>\n",
       "      <td>2021-08-28T20:33:18.000Z</td>\n",
       "      <td>False</td>\n",
       "      <td>53.835498</td>\n",
       "      <td>-1.204398</td>\n",
       "      <td>9</td>\n",
       "      <td>15</td>\n",
       "      <td>LS24 9SE, England</td>\n",
       "      <td>0</td>\n",
       "      <td>NaN</td>\n",
       "      <td>...</td>\n",
       "      <td>NaN</td>\n",
       "      <td>NaN</td>\n",
       "      <td>NaN</td>\n",
       "      <td>NaN</td>\n",
       "      <td>NaN</td>\n",
       "      <td>NaN</td>\n",
       "      <td>NaN</td>\n",
       "      <td>NaN</td>\n",
       "      <td>NaN</td>\n",
       "      <td>NaN</td>\n",
       "    </tr>\n",
       "    <tr>\n",
       "      <th>349461</th>\n",
       "      <td>2021-08-28T21:33:21.000Z</td>\n",
       "      <td>2021-08-28T21:33:23.000Z</td>\n",
       "      <td>False</td>\n",
       "      <td>53.835498</td>\n",
       "      <td>-1.204398</td>\n",
       "      <td>9</td>\n",
       "      <td>15</td>\n",
       "      <td>LS24 9SE, England</td>\n",
       "      <td>0</td>\n",
       "      <td>NaN</td>\n",
       "      <td>...</td>\n",
       "      <td>NaN</td>\n",
       "      <td>NaN</td>\n",
       "      <td>NaN</td>\n",
       "      <td>NaN</td>\n",
       "      <td>NaN</td>\n",
       "      <td>NaN</td>\n",
       "      <td>NaN</td>\n",
       "      <td>NaN</td>\n",
       "      <td>NaN</td>\n",
       "      <td>NaN</td>\n",
       "    </tr>\n",
       "    <tr>\n",
       "      <th>349462</th>\n",
       "      <td>2021-08-28T22:33:28.000Z</td>\n",
       "      <td>2021-08-28T22:33:30.000Z</td>\n",
       "      <td>False</td>\n",
       "      <td>53.835498</td>\n",
       "      <td>-1.204398</td>\n",
       "      <td>26</td>\n",
       "      <td>16</td>\n",
       "      <td>LS24 9SE, England</td>\n",
       "      <td>0</td>\n",
       "      <td>NaN</td>\n",
       "      <td>...</td>\n",
       "      <td>NaN</td>\n",
       "      <td>NaN</td>\n",
       "      <td>NaN</td>\n",
       "      <td>NaN</td>\n",
       "      <td>NaN</td>\n",
       "      <td>NaN</td>\n",
       "      <td>NaN</td>\n",
       "      <td>NaN</td>\n",
       "      <td>NaN</td>\n",
       "      <td>NaN</td>\n",
       "    </tr>\n",
       "  </tbody>\n",
       "</table>\n",
       "<p>349463 rows × 66 columns</p>\n",
       "</div>"
      ],
      "text/plain": [
       "                            Time                  Received  Active        Lat  \\\n",
       "0       2021-08-20T23:02:48.000Z  2021-08-20T23:02:52.000Z    True  54.686113   \n",
       "1       2021-08-20T23:07:49.000Z  2021-08-20T23:07:51.000Z    True  54.686203   \n",
       "2       2021-08-20T23:12:49.000Z  2021-08-20T23:12:52.000Z    True  54.686203   \n",
       "3       2021-08-20T23:17:50.000Z  2021-08-20T23:17:54.000Z    True  54.686295   \n",
       "4       2021-08-20T23:22:50.000Z  2021-08-20T23:22:52.000Z    True  54.686295   \n",
       "...                          ...                       ...     ...        ...   \n",
       "349458  2021-08-28T18:33:02.000Z  2021-08-28T18:33:05.000Z   False  53.835498   \n",
       "349459  2021-08-28T19:33:08.000Z  2021-08-28T19:33:11.000Z   False  53.835498   \n",
       "349460  2021-08-28T20:33:15.000Z  2021-08-28T20:33:18.000Z   False  53.835498   \n",
       "349461  2021-08-28T21:33:21.000Z  2021-08-28T21:33:23.000Z   False  53.835498   \n",
       "349462  2021-08-28T22:33:28.000Z  2021-08-28T22:33:30.000Z   False  53.835498   \n",
       "\n",
       "             Lon  Altitude  Accuracy  \\\n",
       "0      -1.221948        21        11   \n",
       "1      -1.221888        20        12   \n",
       "2      -1.221888        20        12   \n",
       "3      -1.221872        23        12   \n",
       "4      -1.221872        23        12   \n",
       "...          ...       ...       ...   \n",
       "349458 -1.204398         9        20   \n",
       "349459 -1.204398         9        17   \n",
       "349460 -1.204398         9        15   \n",
       "349461 -1.204398         9        15   \n",
       "349462 -1.204398        26        16   \n",
       "\n",
       "                                          Location  Speed  Speed Limit  ...  \\\n",
       "0       Milton Road, Hartlepool, TS26 8DS, England      0          NaN  ...   \n",
       "1       Milton Road, Hartlepool, TS26 8DS, England      0          NaN  ...   \n",
       "2       Milton Road, Hartlepool, TS26 8DS, England      0          NaN  ...   \n",
       "3       Milton Road, Hartlepool, TS26 8DS, England      0          NaN  ...   \n",
       "4       Milton Road, Hartlepool, TS26 8DS, England      0          NaN  ...   \n",
       "...                                            ...    ...          ...  ...   \n",
       "349458                           LS24 9SE, England      0          NaN  ...   \n",
       "349459                           LS24 9SE, England      0          NaN  ...   \n",
       "349460                           LS24 9SE, England      0          NaN  ...   \n",
       "349461                           LS24 9SE, England      0          NaN  ...   \n",
       "349462                           LS24 9SE, England      0          NaN  ...   \n",
       "\n",
       "        Unnamed: 56  Unnamed: 57  Unnamed: 58 Unnamed: 59  Unnamed: 60  \\\n",
       "0               NaN          NaN          NaN         NaN          NaN   \n",
       "1               NaN          NaN          NaN         NaN          NaN   \n",
       "2               NaN          NaN          NaN         NaN          NaN   \n",
       "3               NaN          NaN          NaN         NaN          NaN   \n",
       "4               NaN          NaN          NaN         NaN          NaN   \n",
       "...             ...          ...          ...         ...          ...   \n",
       "349458          NaN          NaN          NaN         NaN          NaN   \n",
       "349459          NaN          NaN          NaN         NaN          NaN   \n",
       "349460          NaN          NaN          NaN         NaN          NaN   \n",
       "349461          NaN          NaN          NaN         NaN          NaN   \n",
       "349462          NaN          NaN          NaN         NaN          NaN   \n",
       "\n",
       "        Unnamed: 61  Unnamed: 62  Unnamed: 63 Unnamed: 64  Unnamed: 65  \n",
       "0               NaN          NaN          NaN         NaN          NaN  \n",
       "1               NaN          NaN          NaN         NaN          NaN  \n",
       "2               NaN          NaN          NaN         NaN          NaN  \n",
       "3               NaN          NaN          NaN         NaN          NaN  \n",
       "4               NaN          NaN          NaN         NaN          NaN  \n",
       "...             ...          ...          ...         ...          ...  \n",
       "349458          NaN          NaN          NaN         NaN          NaN  \n",
       "349459          NaN          NaN          NaN         NaN          NaN  \n",
       "349460          NaN          NaN          NaN         NaN          NaN  \n",
       "349461          NaN          NaN          NaN         NaN          NaN  \n",
       "349462          NaN          NaN          NaN         NaN          NaN  \n",
       "\n",
       "[349463 rows x 66 columns]"
      ]
     },
     "execution_count": 11,
     "metadata": {},
     "output_type": "execute_result"
    }
   ],
   "source": [
    "# Pull the data\n",
    "hhdriveright_data_df = pd.concat([pd.read_csv(file, delimiter=',') for file in hhdriveright_data_files], ignore_index = True)\n",
    "hhdriveright_data_df"
   ]
  },
  {
   "cell_type": "code",
   "execution_count": 43,
   "id": "d8795ca9-0d67-4095-b05b-ab94f347b6be",
   "metadata": {},
   "outputs": [],
   "source": [
    "# Remove NA columns\n",
    "hhdriveright_data_df = hhdriveright_data_df[[item for item in hhdriveright_data_df.columns if 'Unnamed' not in item]]"
   ]
  },
  {
   "cell_type": "code",
   "execution_count": 41,
   "id": "889a9bf3-0495-4ef0-9fac-ce641a1d4545",
   "metadata": {},
   "outputs": [
    {
     "data": {
      "text/plain": [
       "Index(['Time', 'Received', 'Active', 'Lat', 'Lon', 'Altitude', 'Accuracy',\n",
       "       'Location', 'Speed', 'Speed Limit', 'Heading', 'priority', 'eventId',\n",
       "       'ignition', 'moving', 'motion_start', 'gsm_signal', 'sleep',\n",
       "       'gnss_status', 'battery_perc', 'vehicle_speed', 'fuel_level_perc',\n",
       "       'battery_level', 'power_voltage', 'battery_voltage', 'battery_current',\n",
       "       'x', 'y', 'z', 'eco_score', 'total_mileage', 'program_number',\n",
       "       'movement', 'odo_counter', 'hours_00_counter', 'idle_counter',\n",
       "       'motion_end', 'nudge', 'eco_type', 'harsh_accel', 'eco_value',\n",
       "       'eco_duration', 'harsh_corner', 'harsh_brake', 'unplug',\n",
       "       'power_reconnect', 'power_disconnect'],\n",
       "      dtype='object')"
      ]
     },
     "execution_count": 41,
     "metadata": {},
     "output_type": "execute_result"
    }
   ],
   "source": [
    "hhdriveright_data_df.columns"
   ]
  },
  {
   "cell_type": "code",
   "execution_count": 39,
   "id": "a8343214-b1a0-4ca7-8b4a-d18a00d36f7c",
   "metadata": {},
   "outputs": [],
   "source": [
    "# Adjust the timestamps\n",
    "hhdriveright_data_df['Time'] = pd.to_datetime(hhdriveright_data_df['Time'])\n",
    "hhdriveright_data_df['Received'] = pd.to_datetime(hhdriveright_data_df['Received'])"
   ]
  },
  {
   "cell_type": "code",
   "execution_count": 42,
   "id": "82a6c2ca-a683-46a8-8164-f269e26932b9",
   "metadata": {},
   "outputs": [
    {
     "name": "stdout",
     "output_type": "stream",
     "text": [
      "Min date 2021-08-18 23:05:37+00:00,       \n",
      "Max date 2021-08-29 22:59:59+00:00,       \n",
      "Date range 10 days 23:54:22\n"
     ]
    }
   ],
   "source": [
    "# Daterange\n",
    "print(f'Min date {hhdriveright_data_df.Time.min()}, \\\n",
    "      \\nMax date {hhdriveright_data_df.Time.max()}, \\\n",
    "      \\nDate range {hhdriveright_data_df.Time.max() - hhdriveright_data_df.Time.min()}')"
   ]
  },
  {
   "cell_type": "code",
   "execution_count": 46,
   "id": "826e2129-f542-45dd-8400-5e3ce1744d4e",
   "metadata": {},
   "outputs": [
    {
     "data": {
      "text/plain": [
       "0      256597\n",
       "132     17838\n",
       "240     13428\n",
       "239     12683\n",
       "253     11582\n",
       "243     11581\n",
       "653      5604\n",
       "654      5419\n",
       "90       3753\n",
       "661      2598\n",
       "652      2346\n",
       "662      2142\n",
       "655      1288\n",
       "658      1152\n",
       "656       718\n",
       "123       327\n",
       "89        122\n",
       "180       101\n",
       "247        78\n",
       "252        68\n",
       "249        20\n",
       "255        12\n",
       "251         4\n",
       "651         1\n",
       "11          1\n",
       "Name: eventId, dtype: int64"
      ]
     },
     "execution_count": 46,
     "metadata": {},
     "output_type": "execute_result"
    }
   ],
   "source": [
    "# Events\n",
    "hhdriveright_data_df['eventId'].value_counts()"
   ]
  },
  {
   "cell_type": "code",
   "execution_count": 53,
   "id": "2b04f70c-196d-4a3b-861f-bb668ea7b62c",
   "metadata": {},
   "outputs": [
    {
     "data": {
      "text/plain": [
       "Text(0.5, 0, 'Time Interval (Seconds)')"
      ]
     },
     "execution_count": 53,
     "metadata": {},
     "output_type": "execute_result"
    },
    {
     "data": {
      "image/png": "[encoded data removed]",
      "text/plain": [
       "<Figure size 432x288 with 1 Axes>"
      ]
     },
     "metadata": {
      "needs_background": "light"
     },
     "output_type": "display_data"
    }
   ],
   "source": [
    "#  Histogram of heartbeat frequencies\n",
    "plt.hist(\n",
    "    hhdriveright_data_df.Time.diff() / np.timedelta64(1, 's'),\n",
    "    range=[0, 30], \n",
    "    bins=100\n",
    ")\n",
    "plt.title('Histogram of Event Data Sampling Frequency')\n",
    "plt.xlabel('Time Interval (Seconds)')"
   ]
  },
  {
   "cell_type": "code",
   "execution_count": 55,
   "id": "e9c35101-35c9-450a-aaca-ce576d89cd6f",
   "metadata": {},
   "outputs": [
    {
     "data": {
      "text/plain": [
       "Text(0.5, 0, 'Time (Seconds)')"
      ]
     },
     "execution_count": 55,
     "metadata": {},
     "output_type": "execute_result"
    },
    {
     "data": {
      "image/png": "[encoded data removed]",
      "text/plain": [
       "<Figure size 432x288 with 1 Axes>"
      ]
     },
     "metadata": {
      "needs_background": "light"
     },
     "output_type": "display_data"
    }
   ],
   "source": [
    "#  Histogram of GPS location frequencies\n",
    "plt.hist(\n",
    "    (hhdriveright_data_df.Received - hhdriveright_data_df.Time) / np.timedelta64(1, 's'),\n",
    "    range=[0, 30], \n",
    "    bins=100\n",
    ")\n",
    "plt.title('Histogram of Data Transfer Speed')\n",
    "plt.xlabel('Time (Seconds)')"
   ]
  },
  {
   "cell_type": "code",
   "execution_count": 74,
   "id": "c83f3af8-99c6-411c-bf0c-3b4e557ac9bd",
   "metadata": {},
   "outputs": [
    {
     "data": {
      "text/plain": [
       "12647.0     4884\n",
       "0.0         1321\n",
       "0.28        1176\n",
       "-0.002       847\n",
       "0.002        837\n",
       "            ... \n",
       "15:53:19       1\n",
       "15:49:47       1\n",
       "15:48:02       1\n",
       "15:45:02       1\n",
       "0.94           1\n",
       "Name: eco_value, Length: 3556, dtype: int64"
      ]
     },
     "execution_count": 74,
     "metadata": {},
     "output_type": "execute_result"
    }
   ],
   "source": [
    "hhdriveright_data_df[~hhdriveright_data_df.eco_value.isna()]['eco_value'].value_counts()"
   ]
  },
  {
   "cell_type": "code",
   "execution_count": 75,
   "id": "48d6e9f2-5657-42c7-bc2e-13bb51ab5cc7",
   "metadata": {},
   "outputs": [
    {
     "data": {
      "text/plain": [
       "1.0         2623\n",
       "0.0          981\n",
       "0.01         764\n",
       "0.027        754\n",
       "0.037        720\n",
       "            ... \n",
       "13:39:37       1\n",
       "13:39:35       1\n",
       "13:39:34       1\n",
       "13:39:33       1\n",
       "13:42:08       1\n",
       "Name: harsh_accel, Length: 2573, dtype: int64"
      ]
     },
     "execution_count": 75,
     "metadata": {},
     "output_type": "execute_result"
    }
   ],
   "source": [
    "hhdriveright_data_df[~hhdriveright_data_df.harsh_accel.isna()]['harsh_accel'].value_counts()"
   ]
  },
  {
   "cell_type": "code",
   "execution_count": 78,
   "id": "fb2d32d1-ea75-46d0-a4d4-c8d392444c0a",
   "metadata": {},
   "outputs": [
    {
     "data": {
      "text/plain": [
       "0.000000        116279\n",
       "12847.000000     89808\n",
       "11873.000000     24551\n",
       "12454.000000     23251\n",
       "11856.000000     19168\n",
       "                 ...  \n",
       "29.173879            1\n",
       "29.176101            1\n",
       "29.178323            1\n",
       "29.180545            1\n",
       "31.426115            1\n",
       "Name: program_number, Length: 15155, dtype: int64"
      ]
     },
     "execution_count": 78,
     "metadata": {},
     "output_type": "execute_result"
    }
   ],
   "source": [
    "hhdriveright_data_df.program_number.value_counts()"
   ]
  },
  {
   "cell_type": "code",
   "execution_count": null,
   "id": "ac7ac842-46c7-438e-aac1-17d52d3a1a42",
   "metadata": {},
   "outputs": [],
   "source": [
    "program_number"
   ]
  },
  {
   "cell_type": "code",
   "execution_count": 84,
   "id": "2db36bbb-acf2-40e5-8762-038cef7d60eb",
   "metadata": {},
   "outputs": [
    {
     "data": {
      "text/plain": [
       "Text(0.5, 0, 'Speed (MPH)')"
      ]
     },
     "execution_count": 84,
     "metadata": {},
     "output_type": "execute_result"
    },
    {
     "data": {
      "image/png": "[encoded data removed]",
      "text/plain": [
       "<Figure size 432x288 with 1 Axes>"
      ]
     },
     "metadata": {
      "needs_background": "light"
     },
     "output_type": "display_data"
    }
   ],
   "source": [
    "# Speeding\n",
    "plt.hist(\n",
    "    hhdriveright_data_df['Speed'],\n",
    "    # range=[0, 30], \n",
    "    bins=100\n",
    ")\n",
    "plt.title('Histogram of Point in Time Speed')\n",
    "plt.xlabel('Speed (MPH)')"
   ]
  },
  {
   "cell_type": "code",
   "execution_count": 90,
   "id": "004d68f1-abe0-4afc-9107-58906d6ebac1",
   "metadata": {},
   "outputs": [
    {
     "data": {
      "text/plain": [
       "349463"
      ]
     },
     "execution_count": 90,
     "metadata": {},
     "output_type": "execute_result"
    }
   ],
   "source": [
    "hhdriveright_data_df['Speed Limit'].isna().sum()"
   ]
  },
  {
   "cell_type": "code",
   "execution_count": 91,
   "id": "d0afa77f-8b8d-49ed-883f-152b9b555781",
   "metadata": {},
   "outputs": [
    {
     "data": {
      "text/plain": [
       "Index(['Time', 'Received', 'Active', 'Lat', 'Lon', 'Altitude', 'Accuracy',\n",
       "       'Location', 'Speed', 'Speed Limit', 'Heading', 'priority', 'eventId',\n",
       "       'ignition', 'moving', 'motion_start', 'gsm_signal', 'sleep',\n",
       "       'gnss_status', 'battery_perc', 'vehicle_speed', 'fuel_level_perc',\n",
       "       'battery_level', 'power_voltage', 'battery_voltage', 'battery_current',\n",
       "       'x', 'y', 'z', 'eco_score', 'total_mileage', 'program_number',\n",
       "       'movement', 'odo_counter', 'hours_00_counter', 'idle_counter',\n",
       "       'motion_end', 'nudge', 'eco_type', 'harsh_accel', 'eco_value',\n",
       "       'eco_duration', 'harsh_corner', 'harsh_brake', 'unplug',\n",
       "       'power_reconnect', 'power_disconnect'],\n",
       "      dtype='object')"
      ]
     },
     "execution_count": 91,
     "metadata": {},
     "output_type": "execute_result"
    }
   ],
   "source": [
    "hhdriveright_data_df.columns"
   ]
  },
  {
   "cell_type": "code",
   "execution_count": 94,
   "id": "d58ec508-9ac9-495e-8a16-c067d3362275",
   "metadata": {},
   "outputs": [
    {
     "data": {
      "text/plain": [
       "1.000000      42887\n",
       "0.000000        147\n",
       "441.277385       94\n",
       "133.318991       77\n",
       "352.163734       70\n",
       "              ...  \n",
       "220.755634        1\n",
       "220.769550        1\n",
       "220.789204        1\n",
       "220.831577        1\n",
       "296.324208        1\n",
       "Name: motion_start, Length: 13034, dtype: int64"
      ]
     },
     "execution_count": 94,
     "metadata": {},
     "output_type": "execute_result"
    }
   ],
   "source": [
    "hhdriveright_data_df['motion_start'].value_counts()"
   ]
  },
  {
   "cell_type": "code",
   "execution_count": null,
   "id": "9599ad3f-982c-47b1-8364-32ef56b60ad9",
   "metadata": {},
   "outputs": [],
   "source": []
  },
  {
   "cell_type": "code",
   "execution_count": null,
   "id": "8b9259ec-0dbc-479f-b46f-8e7f5674f77a",
   "metadata": {},
   "outputs": [],
   "source": []
  },
  {
   "cell_type": "code",
   "execution_count": null,
   "id": "810312a9-3fb7-4cb5-9dff-0b77c84fd22a",
   "metadata": {},
   "outputs": [],
   "source": []
  },
  {
   "cell_type": "code",
   "execution_count": null,
   "id": "fe239546-1cd1-4589-b781-22360b34c070",
   "metadata": {},
   "outputs": [],
   "source": []
  },
  {
   "cell_type": "code",
   "execution_count": null,
   "id": "e89e01e3-3ff5-458b-95c3-8e3f2bf740fa",
   "metadata": {},
   "outputs": [],
   "source": []
  }
 ],
 "metadata": {
  "kernelspec": {
   "display_name": "Python 3 (ipykernel)",
   "language": "python",
   "name": "python3"
  },
  "language_info": {
   "codemirror_mode": {
    "name": "ipython",
    "version": 3
   },
   "file_extension": ".py",
   "mimetype": "text/x-python",
   "name": "python",
   "nbconvert_exporter": "python",
   "pygments_lexer": "ipython3",
   "version": "3.9.6"
  }
 },
 "nbformat": 4,
 "nbformat_minor": 5
}
