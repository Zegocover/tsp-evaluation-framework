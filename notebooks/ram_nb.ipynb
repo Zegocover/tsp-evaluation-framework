{
 "cells": [
  {
   "cell_type": "markdown",
   "id": "cd10ca48-1372-4ddf-bbf7-1e9577cb903b",
   "metadata": {},
   "source": [
    "# RAM TSP Data Quality Assessment (SS, Oct 2021)"
   ]
  },
  {
   "cell_type": "code",
   "execution_count": 2,
   "id": "fa50aba4-7722-4ef1-b3fc-194ed664794d",
   "metadata": {},
   "outputs": [],
   "source": [
    "# Import libraries\n",
    "import numpy as np\n",
    "import pandas as pd\n",
    "import datetime\n",
    "import getpass\n",
    "import psycopg2\n",
    "import os\n",
    "import matplotlib.pyplot as plt\n",
    "import matplotlib.cm as cm\n",
    "import matplotlib.colors\n",
    "# from tqdm import tqdm\n",
    "import seaborn as sns"
   ]
  },
  {
   "cell_type": "markdown",
   "id": "5bc15d9e-76fe-4bd9-84d4-75e14748228c",
   "metadata": {},
   "source": [
    "# 1. RAM"
   ]
  },
  {
   "cell_type": "code",
   "execution_count": 7,
   "id": "e29e4ab9-0673-4b8f-a3f9-dcc10c4de7a0",
   "metadata": {},
   "outputs": [],
   "source": [
    "# Define variables\n",
    "data_path = '/Users/sven.sabas/projects/tsp-evaluation-framework/data/source/ram'\n",
    "data_files = [os.path.join(data_path, file) for file in os.listdir(data_path) if file.endswith('.json')] "
   ]
  },
  {
   "cell_type": "code",
   "execution_count": 8,
   "id": "5d470c35-0e6d-4f67-8e20-beadece6f785",
   "metadata": {},
   "outputs": [
    {
     "data": {
      "text/plain": [
       "['/Users/sven.sabas/projects/tsp-evaluation-framework/data/source/ram/data.json']"
      ]
     },
     "execution_count": 8,
     "metadata": {},
     "output_type": "execute_result"
    }
   ],
   "source": [
    "data_files"
   ]
  },
  {
   "cell_type": "code",
   "execution_count": 9,
   "id": "f84ab08b-efc1-43c9-9307-1d2bca7ed19f",
   "metadata": {},
   "outputs": [
    {
     "data": {
      "text/html": [
       "<div>\n",
       "<style scoped>\n",
       "    .dataframe tbody tr th:only-of-type {\n",
       "        vertical-align: middle;\n",
       "    }\n",
       "\n",
       "    .dataframe tbody tr th {\n",
       "        vertical-align: top;\n",
       "    }\n",
       "\n",
       "    .dataframe thead th {\n",
       "        text-align: right;\n",
       "    }\n",
       "</style>\n",
       "<table border=\"1\" class=\"dataframe\">\n",
       "  <thead>\n",
       "    <tr style=\"text-align: right;\">\n",
       "      <th></th>\n",
       "      <th>eventName</th>\n",
       "      <th>altitude</th>\n",
       "      <th>satellites</th>\n",
       "      <th>eventDescription</th>\n",
       "      <th>speedLimitKph</th>\n",
       "      <th>sufficientGpsAccuracy</th>\n",
       "      <th>rawLocation</th>\n",
       "      <th>country</th>\n",
       "      <th>town</th>\n",
       "      <th>driverName</th>\n",
       "      <th>...</th>\n",
       "      <th>roadSpeed</th>\n",
       "      <th>direction</th>\n",
       "      <th>offroad</th>\n",
       "      <th>timezone</th>\n",
       "      <th>eventNumber</th>\n",
       "      <th>rowData</th>\n",
       "      <th>street</th>\n",
       "      <th>odometer</th>\n",
       "      <th>greenDrivingValue</th>\n",
       "      <th>greenDrivingEventDuration</th>\n",
       "    </tr>\n",
       "  </thead>\n",
       "  <tbody>\n",
       "    <tr>\n",
       "      <th>0</th>\n",
       "      <td>IGNITION_ON</td>\n",
       "      <td>111</td>\n",
       "      <td>17</td>\n",
       "      <td>Ignition On</td>\n",
       "      <td>48</td>\n",
       "      <td>True</td>\n",
       "      <td>-2.1619983, 53.4754416</td>\n",
       "      <td>England</td>\n",
       "      <td>Manchester</td>\n",
       "      <td>XXX</td>\n",
       "      <td>...</td>\n",
       "      <td>6</td>\n",
       "      <td>349</td>\n",
       "      <td>1</td>\n",
       "      <td>Europe/London</td>\n",
       "      <td>501</td>\n",
       "      <td>080000017BEF2F753001FEB61AF11FDFB470006F015D11...</td>\n",
       "      <td>Edge Lane</td>\n",
       "      <td>15064.383</td>\n",
       "      <td>NaN</td>\n",
       "      <td>NaN</td>\n",
       "    </tr>\n",
       "    <tr>\n",
       "      <th>1</th>\n",
       "      <td>STATIONARY</td>\n",
       "      <td>111</td>\n",
       "      <td>17</td>\n",
       "      <td>Stationary</td>\n",
       "      <td>48</td>\n",
       "      <td>True</td>\n",
       "      <td>-2.1619983, 53.4754416</td>\n",
       "      <td>England</td>\n",
       "      <td>Manchester</td>\n",
       "      <td>XXX</td>\n",
       "      <td>...</td>\n",
       "      <td>6</td>\n",
       "      <td>349</td>\n",
       "      <td>1</td>\n",
       "      <td>Europe/London</td>\n",
       "      <td>5</td>\n",
       "      <td>080000017BEF2F7D0000FEB61AF11FDFB470006F015D11...</td>\n",
       "      <td>Edge Lane</td>\n",
       "      <td>15064.383</td>\n",
       "      <td>NaN</td>\n",
       "      <td>NaN</td>\n",
       "    </tr>\n",
       "    <tr>\n",
       "      <th>2</th>\n",
       "      <td>DRIVING</td>\n",
       "      <td>104</td>\n",
       "      <td>17</td>\n",
       "      <td>Driving</td>\n",
       "      <td>48</td>\n",
       "      <td>True</td>\n",
       "      <td>-2.1619966, 53.4754699</td>\n",
       "      <td>England</td>\n",
       "      <td>Manchester</td>\n",
       "      <td>XXX</td>\n",
       "      <td>...</td>\n",
       "      <td>6</td>\n",
       "      <td>243</td>\n",
       "      <td>1</td>\n",
       "      <td>Europe/London</td>\n",
       "      <td>2</td>\n",
       "      <td>080000017BEF2FBF6800FEB61B021FDFB58B006800F311...</td>\n",
       "      <td>Edge Lane</td>\n",
       "      <td>15064.390</td>\n",
       "      <td>NaN</td>\n",
       "      <td>NaN</td>\n",
       "    </tr>\n",
       "    <tr>\n",
       "      <th>3</th>\n",
       "      <td>DRIVING</td>\n",
       "      <td>99</td>\n",
       "      <td>17</td>\n",
       "      <td>Driving</td>\n",
       "      <td>48</td>\n",
       "      <td>True</td>\n",
       "      <td>-2.1620233, 53.4752716</td>\n",
       "      <td>England</td>\n",
       "      <td>Manchester</td>\n",
       "      <td>XXX</td>\n",
       "      <td>...</td>\n",
       "      <td>6</td>\n",
       "      <td>119</td>\n",
       "      <td>1</td>\n",
       "      <td>Europe/London</td>\n",
       "      <td>2</td>\n",
       "      <td>080000017BEF3001D000FEB619F71FDFADCC0063007711...</td>\n",
       "      <td>Edge Lane</td>\n",
       "      <td>15064.418</td>\n",
       "      <td>NaN</td>\n",
       "      <td>NaN</td>\n",
       "    </tr>\n",
       "    <tr>\n",
       "      <th>4</th>\n",
       "      <td>DRIVING</td>\n",
       "      <td>98</td>\n",
       "      <td>16</td>\n",
       "      <td>Driving</td>\n",
       "      <td>48</td>\n",
       "      <td>True</td>\n",
       "      <td>-2.1615633, 53.4749066</td>\n",
       "      <td>England</td>\n",
       "      <td>Manchester</td>\n",
       "      <td>XXX</td>\n",
       "      <td>...</td>\n",
       "      <td>6</td>\n",
       "      <td>214</td>\n",
       "      <td>1</td>\n",
       "      <td>Europe/London</td>\n",
       "      <td>2</td>\n",
       "      <td>080000017BEF30443800FEB62BEF1FDF9F8A006200D610...</td>\n",
       "      <td>Fairfield Road</td>\n",
       "      <td>15064.485</td>\n",
       "      <td>NaN</td>\n",
       "      <td>NaN</td>\n",
       "    </tr>\n",
       "    <tr>\n",
       "      <th>...</th>\n",
       "      <td>...</td>\n",
       "      <td>...</td>\n",
       "      <td>...</td>\n",
       "      <td>...</td>\n",
       "      <td>...</td>\n",
       "      <td>...</td>\n",
       "      <td>...</td>\n",
       "      <td>...</td>\n",
       "      <td>...</td>\n",
       "      <td>...</td>\n",
       "      <td>...</td>\n",
       "      <td>...</td>\n",
       "      <td>...</td>\n",
       "      <td>...</td>\n",
       "      <td>...</td>\n",
       "      <td>...</td>\n",
       "      <td>...</td>\n",
       "      <td>...</td>\n",
       "      <td>...</td>\n",
       "      <td>...</td>\n",
       "      <td>...</td>\n",
       "    </tr>\n",
       "    <tr>\n",
       "      <th>24907</th>\n",
       "      <td>STATIONARY</td>\n",
       "      <td>85</td>\n",
       "      <td>17</td>\n",
       "      <td>Stationary</td>\n",
       "      <td>97</td>\n",
       "      <td>True</td>\n",
       "      <td>-2.3975750, 53.8250300</td>\n",
       "      <td>England</td>\n",
       "      <td>Clitheroe</td>\n",
       "      <td>XXX</td>\n",
       "      <td>...</td>\n",
       "      <td>3</td>\n",
       "      <td>278</td>\n",
       "      <td>1</td>\n",
       "      <td>Europe/London</td>\n",
       "      <td>5</td>\n",
       "      <td>080000017C3559576000FE9228BA20150C3C0055011611...</td>\n",
       "      <td>A671</td>\n",
       "      <td>16072.340</td>\n",
       "      <td>NaN</td>\n",
       "      <td>NaN</td>\n",
       "    </tr>\n",
       "    <tr>\n",
       "      <th>24908</th>\n",
       "      <td>STATIONARY</td>\n",
       "      <td>85</td>\n",
       "      <td>16</td>\n",
       "      <td>Stationary</td>\n",
       "      <td>97</td>\n",
       "      <td>True</td>\n",
       "      <td>-2.3975750, 53.8250300</td>\n",
       "      <td>England</td>\n",
       "      <td>Clitheroe</td>\n",
       "      <td>XXX</td>\n",
       "      <td>...</td>\n",
       "      <td>3</td>\n",
       "      <td>278</td>\n",
       "      <td>1</td>\n",
       "      <td>Europe/London</td>\n",
       "      <td>5</td>\n",
       "      <td>080000017C355A41C000FE9228BA20150C3C0055011610...</td>\n",
       "      <td>A671</td>\n",
       "      <td>16072.340</td>\n",
       "      <td>NaN</td>\n",
       "      <td>NaN</td>\n",
       "    </tr>\n",
       "    <tr>\n",
       "      <th>24909</th>\n",
       "      <td>IDLE_END</td>\n",
       "      <td>85</td>\n",
       "      <td>17</td>\n",
       "      <td>Idle End</td>\n",
       "      <td>97</td>\n",
       "      <td>True</td>\n",
       "      <td>-2.3975750, 53.8250300</td>\n",
       "      <td>England</td>\n",
       "      <td>Clitheroe</td>\n",
       "      <td>XXX</td>\n",
       "      <td>...</td>\n",
       "      <td>3</td>\n",
       "      <td>278</td>\n",
       "      <td>1</td>\n",
       "      <td>Europe/London</td>\n",
       "      <td>50</td>\n",
       "      <td>080000017C355AFD4000FE9228BA20150C3C0055011611...</td>\n",
       "      <td>A671</td>\n",
       "      <td>16072.340</td>\n",
       "      <td>NaN</td>\n",
       "      <td>NaN</td>\n",
       "    </tr>\n",
       "    <tr>\n",
       "      <th>24910</th>\n",
       "      <td>IGNITION_OFF</td>\n",
       "      <td>85</td>\n",
       "      <td>17</td>\n",
       "      <td>Ignition Off</td>\n",
       "      <td>97</td>\n",
       "      <td>True</td>\n",
       "      <td>-2.3975750, 53.8250300</td>\n",
       "      <td>England</td>\n",
       "      <td>Clitheroe</td>\n",
       "      <td>XXX</td>\n",
       "      <td>...</td>\n",
       "      <td>3</td>\n",
       "      <td>278</td>\n",
       "      <td>1</td>\n",
       "      <td>Europe/London</td>\n",
       "      <td>500</td>\n",
       "      <td>080000017C355B051001FE9228BA20150C3C0055011611...</td>\n",
       "      <td>A671</td>\n",
       "      <td>16072.340</td>\n",
       "      <td>NaN</td>\n",
       "      <td>NaN</td>\n",
       "    </tr>\n",
       "    <tr>\n",
       "      <th>24911</th>\n",
       "      <td>PRIVATE_MILEAGE_END</td>\n",
       "      <td>85</td>\n",
       "      <td>17</td>\n",
       "      <td>Private Mileage End</td>\n",
       "      <td>97</td>\n",
       "      <td>True</td>\n",
       "      <td>-2.3975750, 53.8250300</td>\n",
       "      <td>England</td>\n",
       "      <td>Clitheroe</td>\n",
       "      <td>XXX</td>\n",
       "      <td>...</td>\n",
       "      <td>3</td>\n",
       "      <td>278</td>\n",
       "      <td>1</td>\n",
       "      <td>Europe/London</td>\n",
       "      <td>9001</td>\n",
       "      <td>080000017C355B051001FE9228BA20150C3C0055011611...</td>\n",
       "      <td>A671</td>\n",
       "      <td>16072.340</td>\n",
       "      <td>NaN</td>\n",
       "      <td>NaN</td>\n",
       "    </tr>\n",
       "  </tbody>\n",
       "</table>\n",
       "<p>24912 rows × 30 columns</p>\n",
       "</div>"
      ],
      "text/plain": [
       "                 eventName  altitude  satellites     eventDescription  \\\n",
       "0              IGNITION_ON       111          17          Ignition On   \n",
       "1               STATIONARY       111          17           Stationary   \n",
       "2                  DRIVING       104          17              Driving   \n",
       "3                  DRIVING        99          17              Driving   \n",
       "4                  DRIVING        98          16              Driving   \n",
       "...                    ...       ...         ...                  ...   \n",
       "24907           STATIONARY        85          17           Stationary   \n",
       "24908           STATIONARY        85          16           Stationary   \n",
       "24909             IDLE_END        85          17             Idle End   \n",
       "24910         IGNITION_OFF        85          17         Ignition Off   \n",
       "24911  PRIVATE_MILEAGE_END        85          17  Private Mileage End   \n",
       "\n",
       "       speedLimitKph  sufficientGpsAccuracy             rawLocation  country  \\\n",
       "0                 48                   True  -2.1619983, 53.4754416  England   \n",
       "1                 48                   True  -2.1619983, 53.4754416  England   \n",
       "2                 48                   True  -2.1619966, 53.4754699  England   \n",
       "3                 48                   True  -2.1620233, 53.4752716  England   \n",
       "4                 48                   True  -2.1615633, 53.4749066  England   \n",
       "...              ...                    ...                     ...      ...   \n",
       "24907             97                   True  -2.3975750, 53.8250300  England   \n",
       "24908             97                   True  -2.3975750, 53.8250300  England   \n",
       "24909             97                   True  -2.3975750, 53.8250300  England   \n",
       "24910             97                   True  -2.3975750, 53.8250300  England   \n",
       "24911             97                   True  -2.3975750, 53.8250300  England   \n",
       "\n",
       "             town driverName  ...  roadSpeed  direction  offroad  \\\n",
       "0      Manchester        XXX  ...          6        349        1   \n",
       "1      Manchester        XXX  ...          6        349        1   \n",
       "2      Manchester        XXX  ...          6        243        1   \n",
       "3      Manchester        XXX  ...          6        119        1   \n",
       "4      Manchester        XXX  ...          6        214        1   \n",
       "...           ...        ...  ...        ...        ...      ...   \n",
       "24907   Clitheroe        XXX  ...          3        278        1   \n",
       "24908   Clitheroe        XXX  ...          3        278        1   \n",
       "24909   Clitheroe        XXX  ...          3        278        1   \n",
       "24910   Clitheroe        XXX  ...          3        278        1   \n",
       "24911   Clitheroe        XXX  ...          3        278        1   \n",
       "\n",
       "            timezone eventNumber  \\\n",
       "0      Europe/London         501   \n",
       "1      Europe/London           5   \n",
       "2      Europe/London           2   \n",
       "3      Europe/London           2   \n",
       "4      Europe/London           2   \n",
       "...              ...         ...   \n",
       "24907  Europe/London           5   \n",
       "24908  Europe/London           5   \n",
       "24909  Europe/London          50   \n",
       "24910  Europe/London         500   \n",
       "24911  Europe/London        9001   \n",
       "\n",
       "                                                 rowData          street  \\\n",
       "0      080000017BEF2F753001FEB61AF11FDFB470006F015D11...       Edge Lane   \n",
       "1      080000017BEF2F7D0000FEB61AF11FDFB470006F015D11...       Edge Lane   \n",
       "2      080000017BEF2FBF6800FEB61B021FDFB58B006800F311...       Edge Lane   \n",
       "3      080000017BEF3001D000FEB619F71FDFADCC0063007711...       Edge Lane   \n",
       "4      080000017BEF30443800FEB62BEF1FDF9F8A006200D610...  Fairfield Road   \n",
       "...                                                  ...             ...   \n",
       "24907  080000017C3559576000FE9228BA20150C3C0055011611...            A671   \n",
       "24908  080000017C355A41C000FE9228BA20150C3C0055011610...            A671   \n",
       "24909  080000017C355AFD4000FE9228BA20150C3C0055011611...            A671   \n",
       "24910  080000017C355B051001FE9228BA20150C3C0055011611...            A671   \n",
       "24911  080000017C355B051001FE9228BA20150C3C0055011611...            A671   \n",
       "\n",
       "        odometer greenDrivingValue greenDrivingEventDuration  \n",
       "0      15064.383               NaN                       NaN  \n",
       "1      15064.383               NaN                       NaN  \n",
       "2      15064.390               NaN                       NaN  \n",
       "3      15064.418               NaN                       NaN  \n",
       "4      15064.485               NaN                       NaN  \n",
       "...          ...               ...                       ...  \n",
       "24907  16072.340               NaN                       NaN  \n",
       "24908  16072.340               NaN                       NaN  \n",
       "24909  16072.340               NaN                       NaN  \n",
       "24910  16072.340               NaN                       NaN  \n",
       "24911  16072.340               NaN                       NaN  \n",
       "\n",
       "[24912 rows x 30 columns]"
      ]
     },
     "execution_count": 9,
     "metadata": {},
     "output_type": "execute_result"
    }
   ],
   "source": [
    "# Pull the data\n",
    "data_df = pd.concat([pd.read_json(file) for file in data_files], ignore_index = True)\n",
    "data_df"
   ]
  },
  {
   "cell_type": "code",
   "execution_count": 51,
   "id": "be129b13-aaa6-4adf-bc3f-b99a6474f71d",
   "metadata": {},
   "outputs": [
    {
     "data": {
      "text/plain": [
       "Index(['eventName', 'altitude', 'satellites', 'eventDescription',\n",
       "       'speedLimitKph', 'sufficientGpsAccuracy', 'rawLocation', 'country',\n",
       "       'town', 'driverName', 'VehicleId', 'deleteAt', 'privacyMode',\n",
       "       'speedKph', 'modifiedAt', 'county', 'location', 'postcode', 'eventDate',\n",
       "       'createdAt', 'roadSpeed', 'direction', 'offroad', 'timezone',\n",
       "       'eventNumber', 'rowData', 'street', 'odometer', 'greenDrivingValue',\n",
       "       'greenDrivingEventDuration'],\n",
       "      dtype='object')"
      ]
     },
     "execution_count": 51,
     "metadata": {},
     "output_type": "execute_result"
    }
   ],
   "source": [
    "data_df.columns"
   ]
  },
  {
   "cell_type": "code",
   "execution_count": null,
   "id": "8d25a038-3331-4e6c-a6d0-d345682e47d2",
   "metadata": {},
   "outputs": [],
   "source": [
    "# Adjust the timestamps\n",
    "data_df['modifiedAt'] = pd.to_datetime(data_df['modifiedAt'])\n",
    "data_df['eventDate'] = pd.to_datetime(data_df['eventDate'])\n",
    "data_df['createdAt'] = pd.to_datetime(data_df['createdAt'])"
   ]
  },
  {
   "cell_type": "code",
   "execution_count": 13,
   "id": "82a6c2ca-a683-46a8-8164-f269e26932b9",
   "metadata": {},
   "outputs": [
    {
     "name": "stdout",
     "output_type": "stream",
     "text": [
      "Min date 2021-09-16 14:37:09,       \n",
      "Max date 2021-09-30 14:36:12,       \n",
      "Date range 13 days 23:59:03\n"
     ]
    }
   ],
   "source": [
    "# Daterange\n",
    "print(f'Min date {data_df.eventDate.min()}, \\\n",
    "      \\nMax date {data_df.eventDate.max()}, \\\n",
    "      \\nDate range {data_df.eventDate.max() - data_df.eventDate.min()}')"
   ]
  },
  {
   "cell_type": "code",
   "execution_count": 14,
   "id": "9aff314f-2768-43bb-9018-04f60debdd62",
   "metadata": {},
   "outputs": [
    {
     "data": {
      "text/plain": [
       "343373    4999\n",
       "343365    3077\n",
       "343372    2902\n",
       "343369    2869\n",
       "343367    2671\n",
       "343366    2406\n",
       "343363    1638\n",
       "343371    1613\n",
       "343364    1430\n",
       "343368    1307\n",
       "Name: VehicleId, dtype: int64"
      ]
     },
     "execution_count": 14,
     "metadata": {},
     "output_type": "execute_result"
    }
   ],
   "source": [
    "# Vehicles\n",
    "data_df['VehicleId'].value_counts()"
   ]
  },
  {
   "cell_type": "code",
   "execution_count": 15,
   "id": "826e2129-f542-45dd-8400-5e3ce1744d4e",
   "metadata": {},
   "outputs": [
    {
     "data": {
      "text/plain": [
       "DRIVING                  12127\n",
       "STATIONARY                3579\n",
       "HARSH_EVENT_END           2839\n",
       "HARSH_CORNERING           1972\n",
       "IGNITION_ON                967\n",
       "IGNITION_OFF               959\n",
       "HARSH_BRAKING              713\n",
       "OVER_SPEED                 690\n",
       "PRIVATE_MILEAGE_START      307\n",
       "PRIVATE_MILEAGE_END        307\n",
       "HARSH_ACCELERATION         154\n",
       "IDLE_END                   148\n",
       "IDLE_START                 147\n",
       "EXT_POWER_LOST               1\n",
       "UNKNOWN                      1\n",
       "IMPACT_DETECTED              1\n",
       "Name: eventName, dtype: int64"
      ]
     },
     "execution_count": 15,
     "metadata": {},
     "output_type": "execute_result"
    }
   ],
   "source": [
    "# Events\n",
    "data_df['eventName'].value_counts()"
   ]
  },
  {
   "cell_type": "code",
   "execution_count": 21,
   "id": "2b04f70c-196d-4a3b-861f-bb668ea7b62c",
   "metadata": {},
   "outputs": [
    {
     "data": {
      "text/plain": [
       "Text(0.5, 0, 'Time Interval (Seconds)')"
      ]
     },
     "execution_count": 21,
     "metadata": {},
     "output_type": "execute_result"
    },
    {
     "data": {
      "image/png": "[encoded data removed]",
      "text/plain": [
       "<Figure size 432x288 with 1 Axes>"
      ]
     },
     "metadata": {
      "needs_background": "light"
     },
     "output_type": "display_data"
    }
   ],
   "source": [
    "#  Histogram of heartbeat frequencies\n",
    "plt.hist(\n",
    "    data_df.eventDate.diff() / np.timedelta64(1, 's'),\n",
    "    range=[0, 100], \n",
    "    bins=100\n",
    ")\n",
    "plt.title('Histogram of Event Time Intervals')\n",
    "plt.xlabel('Time Interval (Seconds)')"
   ]
  },
  {
   "cell_type": "code",
   "execution_count": 24,
   "id": "e9c35101-35c9-450a-aaca-ce576d89cd6f",
   "metadata": {},
   "outputs": [
    {
     "data": {
      "text/plain": [
       "Text(0.5, 0, 'Time (Seconds)')"
      ]
     },
     "execution_count": 24,
     "metadata": {},
     "output_type": "execute_result"
    },
    {
     "data": {
      "image/png": "[encoded data removed]",
      "text/plain": [
       "<Figure size 432x288 with 1 Axes>"
      ]
     },
     "metadata": {
      "needs_background": "light"
     },
     "output_type": "display_data"
    }
   ],
   "source": [
    "#  Histogram of GPS location frequencies\n",
    "plt.hist(\n",
    "    (data_df.createdAt - data_df.eventDate) / np.timedelta64(1, 's'),\n",
    "    range=[0, 100], \n",
    "    bins=100\n",
    ")\n",
    "plt.title('Histogram of Data Transfer Speed')\n",
    "plt.xlabel('Time (Seconds)')"
   ]
  },
  {
   "cell_type": "code",
   "execution_count": 37,
   "id": "2db36bbb-acf2-40e5-8762-038cef7d60eb",
   "metadata": {},
   "outputs": [
    {
     "data": {
      "text/plain": [
       "Text(0.5, 0, 'Speed (KPH)')"
      ]
     },
     "execution_count": 37,
     "metadata": {},
     "output_type": "execute_result"
    },
    {
     "data": {
      "image/png": "[encoded data removed]",
      "text/plain": [
       "<Figure size 432x288 with 1 Axes>"
      ]
     },
     "metadata": {
      "needs_background": "light"
     },
     "output_type": "display_data"
    }
   ],
   "source": [
    "#  Histogram of overspeeds\n",
    "plt.hist(\n",
    "    data_df[data_df['eventName'] == 'OVER_SPEED']['speedKph'],\n",
    "    # range=[0, 300], \n",
    "    bins=50\n",
    ")\n",
    "plt.title('Histogram of Overspeeding Values')\n",
    "plt.xlabel('Speed (KPH)')"
   ]
  },
  {
   "cell_type": "code",
   "execution_count": 39,
   "id": "9cca91f2-5b9e-4c72-93fb-4d9d4c451138",
   "metadata": {},
   "outputs": [
    {
     "data": {
      "text/plain": [
       "Text(0.5, 0, 'Speed (KPH)')"
      ]
     },
     "execution_count": 39,
     "metadata": {},
     "output_type": "execute_result"
    },
    {
     "data": {
      "image/png": "[encoded data removed]",
      "text/plain": [
       "<Figure size 432x288 with 1 Axes>"
      ]
     },
     "metadata": {
      "needs_background": "light"
     },
     "output_type": "display_data"
    }
   ],
   "source": [
    "#  Histogram of speeds\n",
    "plt.hist(\n",
    "    data_df.speedLimitKph,\n",
    "    # range=[0, 300], \n",
    "    bins=100\n",
    ")\n",
    "plt.title('Histogram of Speed Values')\n",
    "plt.xlabel('Speed (KPH)')"
   ]
  },
  {
   "cell_type": "code",
   "execution_count": 44,
   "id": "8e604e55-c153-44e4-877a-0174f402da99",
   "metadata": {},
   "outputs": [
    {
     "data": {
      "text/plain": [
       "Text(0.5, 0, 'G-Force')"
      ]
     },
     "execution_count": 44,
     "metadata": {},
     "output_type": "execute_result"
    },
    {
     "data": {
      "image/png": "[encoded data removed]",
      "text/plain": [
       "<Figure size 432x288 with 1 Axes>"
      ]
     },
     "metadata": {
      "needs_background": "light"
     },
     "output_type": "display_data"
    }
   ],
   "source": [
    "#  Histogram of speeds\n",
    "plt.hist(\n",
    "    data_df[data_df.eventName  == 'HARSH_BRAKING'].greenDrivingValue/100,\n",
    "    # range=[0, 300], \n",
    "    bins=100\n",
    ")\n",
    "plt.title('Histogram of Harsh Braking G-force Values')\n",
    "plt.xlabel('G-Force')"
   ]
  },
  {
   "cell_type": "code",
   "execution_count": 45,
   "id": "32e2c4ae-7c8d-4087-a728-cbea12040022",
   "metadata": {},
   "outputs": [
    {
     "data": {
      "text/plain": [
       "Text(0.5, 0, 'G-Force')"
      ]
     },
     "execution_count": 45,
     "metadata": {},
     "output_type": "execute_result"
    },
    {
     "data": {
      "image/png": "[encoded data removed]",
      "text/plain": [
       "<Figure size 432x288 with 1 Axes>"
      ]
     },
     "metadata": {
      "needs_background": "light"
     },
     "output_type": "display_data"
    }
   ],
   "source": [
    "#  Histogram of speeds\n",
    "plt.hist(\n",
    "    data_df[data_df.eventName  == 'HARSH_ACCELERATION'].greenDrivingValue/100,\n",
    "    # range=[0, 300], \n",
    "    bins=100\n",
    ")\n",
    "plt.title('Histogram of Harsh Acceleration G-force Values')\n",
    "plt.xlabel('G-Force')"
   ]
  },
  {
   "cell_type": "code",
   "execution_count": 46,
   "id": "c21dc426-1100-483b-b12e-5dec419ac275",
   "metadata": {},
   "outputs": [
    {
     "data": {
      "text/plain": [
       "Text(0.5, 0, 'G-Force')"
      ]
     },
     "execution_count": 46,
     "metadata": {},
     "output_type": "execute_result"
    },
    {
     "data": {
      "image/png": "[encoded data removed]",
      "text/plain": [
       "<Figure size 432x288 with 1 Axes>"
      ]
     },
     "metadata": {
      "needs_background": "light"
     },
     "output_type": "display_data"
    }
   ],
   "source": [
    "#  Histogram of speeds\n",
    "plt.hist(\n",
    "    data_df[data_df.eventName  == 'HARSH_CORNERING'].greenDrivingValue/100,\n",
    "    # range=[0, 300], \n",
    "    bins=100\n",
    ")\n",
    "plt.title('Histogram of Harsh Acceleration G-force Values')\n",
    "plt.xlabel('G-Force')"
   ]
  },
  {
   "cell_type": "code",
   "execution_count": 48,
   "id": "1f7549e4-606b-4de5-bfd7-a5e8a3fca1cf",
   "metadata": {},
   "outputs": [
    {
     "data": {
      "text/plain": [
       "34.0"
      ]
     },
     "execution_count": 48,
     "metadata": {},
     "output_type": "execute_result"
    }
   ],
   "source": [
    "data_df[data_df.eventName  == 'HARSH_BRAKING'].greenDrivingValue.min()"
   ]
  },
  {
   "cell_type": "code",
   "execution_count": 49,
   "id": "da1ebe86-1e86-4580-a4ce-d9fec0df3064",
   "metadata": {},
   "outputs": [
    {
     "data": {
      "text/plain": [
       "38.0"
      ]
     },
     "execution_count": 49,
     "metadata": {},
     "output_type": "execute_result"
    }
   ],
   "source": [
    "data_df[data_df.eventName  == 'HARSH_ACCELERATION'].greenDrivingValue.min()"
   ]
  },
  {
   "cell_type": "code",
   "execution_count": 50,
   "id": "e3c3ae86-dcae-440b-bc87-721f64ae3e61",
   "metadata": {},
   "outputs": [
    {
     "data": {
      "text/plain": [
       "34.0"
      ]
     },
     "execution_count": 50,
     "metadata": {},
     "output_type": "execute_result"
    }
   ],
   "source": [
    "data_df[data_df.eventName  == 'HARSH_CORNERING'].greenDrivingValue.min()"
   ]
  },
  {
   "cell_type": "code",
   "execution_count": null,
   "id": "52c8c966-9e64-4d5c-b094-5b9e91e0e13c",
   "metadata": {},
   "outputs": [],
   "source": []
  },
  {
   "cell_type": "code",
   "execution_count": null,
   "id": "dc664038-c5bc-49d8-98a5-3a06c666d7b4",
   "metadata": {},
   "outputs": [],
   "source": []
  },
  {
   "cell_type": "code",
   "execution_count": 40,
   "id": "3351687d-7cd0-4777-b515-642e0cb67a7f",
   "metadata": {},
   "outputs": [
    {
     "data": {
      "text/html": [
       "<div>\n",
       "<style scoped>\n",
       "    .dataframe tbody tr th:only-of-type {\n",
       "        vertical-align: middle;\n",
       "    }\n",
       "\n",
       "    .dataframe tbody tr th {\n",
       "        vertical-align: top;\n",
       "    }\n",
       "\n",
       "    .dataframe thead th {\n",
       "        text-align: right;\n",
       "    }\n",
       "</style>\n",
       "<table border=\"1\" class=\"dataframe\">\n",
       "  <thead>\n",
       "    <tr style=\"text-align: right;\">\n",
       "      <th></th>\n",
       "      <th>eventName</th>\n",
       "      <th>altitude</th>\n",
       "      <th>satellites</th>\n",
       "      <th>eventDescription</th>\n",
       "      <th>speedLimitKph</th>\n",
       "      <th>sufficientGpsAccuracy</th>\n",
       "      <th>rawLocation</th>\n",
       "      <th>country</th>\n",
       "      <th>town</th>\n",
       "      <th>driverName</th>\n",
       "      <th>...</th>\n",
       "      <th>roadSpeed</th>\n",
       "      <th>direction</th>\n",
       "      <th>offroad</th>\n",
       "      <th>timezone</th>\n",
       "      <th>eventNumber</th>\n",
       "      <th>rowData</th>\n",
       "      <th>street</th>\n",
       "      <th>odometer</th>\n",
       "      <th>greenDrivingValue</th>\n",
       "      <th>greenDrivingEventDuration</th>\n",
       "    </tr>\n",
       "  </thead>\n",
       "  <tbody>\n",
       "    <tr>\n",
       "      <th>0</th>\n",
       "      <td>IGNITION_ON</td>\n",
       "      <td>111</td>\n",
       "      <td>17</td>\n",
       "      <td>Ignition On</td>\n",
       "      <td>48</td>\n",
       "      <td>True</td>\n",
       "      <td>-2.1619983, 53.4754416</td>\n",
       "      <td>England</td>\n",
       "      <td>Manchester</td>\n",
       "      <td>XXX</td>\n",
       "      <td>...</td>\n",
       "      <td>6</td>\n",
       "      <td>349</td>\n",
       "      <td>1</td>\n",
       "      <td>Europe/London</td>\n",
       "      <td>501</td>\n",
       "      <td>080000017BEF2F753001FEB61AF11FDFB470006F015D11...</td>\n",
       "      <td>Edge Lane</td>\n",
       "      <td>15064.383</td>\n",
       "      <td>NaN</td>\n",
       "      <td>NaN</td>\n",
       "    </tr>\n",
       "    <tr>\n",
       "      <th>1</th>\n",
       "      <td>STATIONARY</td>\n",
       "      <td>111</td>\n",
       "      <td>17</td>\n",
       "      <td>Stationary</td>\n",
       "      <td>48</td>\n",
       "      <td>True</td>\n",
       "      <td>-2.1619983, 53.4754416</td>\n",
       "      <td>England</td>\n",
       "      <td>Manchester</td>\n",
       "      <td>XXX</td>\n",
       "      <td>...</td>\n",
       "      <td>6</td>\n",
       "      <td>349</td>\n",
       "      <td>1</td>\n",
       "      <td>Europe/London</td>\n",
       "      <td>5</td>\n",
       "      <td>080000017BEF2F7D0000FEB61AF11FDFB470006F015D11...</td>\n",
       "      <td>Edge Lane</td>\n",
       "      <td>15064.383</td>\n",
       "      <td>NaN</td>\n",
       "      <td>NaN</td>\n",
       "    </tr>\n",
       "    <tr>\n",
       "      <th>2</th>\n",
       "      <td>DRIVING</td>\n",
       "      <td>104</td>\n",
       "      <td>17</td>\n",
       "      <td>Driving</td>\n",
       "      <td>48</td>\n",
       "      <td>True</td>\n",
       "      <td>-2.1619966, 53.4754699</td>\n",
       "      <td>England</td>\n",
       "      <td>Manchester</td>\n",
       "      <td>XXX</td>\n",
       "      <td>...</td>\n",
       "      <td>6</td>\n",
       "      <td>243</td>\n",
       "      <td>1</td>\n",
       "      <td>Europe/London</td>\n",
       "      <td>2</td>\n",
       "      <td>080000017BEF2FBF6800FEB61B021FDFB58B006800F311...</td>\n",
       "      <td>Edge Lane</td>\n",
       "      <td>15064.390</td>\n",
       "      <td>NaN</td>\n",
       "      <td>NaN</td>\n",
       "    </tr>\n",
       "    <tr>\n",
       "      <th>3</th>\n",
       "      <td>DRIVING</td>\n",
       "      <td>99</td>\n",
       "      <td>17</td>\n",
       "      <td>Driving</td>\n",
       "      <td>48</td>\n",
       "      <td>True</td>\n",
       "      <td>-2.1620233, 53.4752716</td>\n",
       "      <td>England</td>\n",
       "      <td>Manchester</td>\n",
       "      <td>XXX</td>\n",
       "      <td>...</td>\n",
       "      <td>6</td>\n",
       "      <td>119</td>\n",
       "      <td>1</td>\n",
       "      <td>Europe/London</td>\n",
       "      <td>2</td>\n",
       "      <td>080000017BEF3001D000FEB619F71FDFADCC0063007711...</td>\n",
       "      <td>Edge Lane</td>\n",
       "      <td>15064.418</td>\n",
       "      <td>NaN</td>\n",
       "      <td>NaN</td>\n",
       "    </tr>\n",
       "    <tr>\n",
       "      <th>4</th>\n",
       "      <td>DRIVING</td>\n",
       "      <td>98</td>\n",
       "      <td>16</td>\n",
       "      <td>Driving</td>\n",
       "      <td>48</td>\n",
       "      <td>True</td>\n",
       "      <td>-2.1615633, 53.4749066</td>\n",
       "      <td>England</td>\n",
       "      <td>Manchester</td>\n",
       "      <td>XXX</td>\n",
       "      <td>...</td>\n",
       "      <td>6</td>\n",
       "      <td>214</td>\n",
       "      <td>1</td>\n",
       "      <td>Europe/London</td>\n",
       "      <td>2</td>\n",
       "      <td>080000017BEF30443800FEB62BEF1FDF9F8A006200D610...</td>\n",
       "      <td>Fairfield Road</td>\n",
       "      <td>15064.485</td>\n",
       "      <td>NaN</td>\n",
       "      <td>NaN</td>\n",
       "    </tr>\n",
       "    <tr>\n",
       "      <th>...</th>\n",
       "      <td>...</td>\n",
       "      <td>...</td>\n",
       "      <td>...</td>\n",
       "      <td>...</td>\n",
       "      <td>...</td>\n",
       "      <td>...</td>\n",
       "      <td>...</td>\n",
       "      <td>...</td>\n",
       "      <td>...</td>\n",
       "      <td>...</td>\n",
       "      <td>...</td>\n",
       "      <td>...</td>\n",
       "      <td>...</td>\n",
       "      <td>...</td>\n",
       "      <td>...</td>\n",
       "      <td>...</td>\n",
       "      <td>...</td>\n",
       "      <td>...</td>\n",
       "      <td>...</td>\n",
       "      <td>...</td>\n",
       "      <td>...</td>\n",
       "    </tr>\n",
       "    <tr>\n",
       "      <th>24907</th>\n",
       "      <td>STATIONARY</td>\n",
       "      <td>85</td>\n",
       "      <td>17</td>\n",
       "      <td>Stationary</td>\n",
       "      <td>97</td>\n",
       "      <td>True</td>\n",
       "      <td>-2.3975750, 53.8250300</td>\n",
       "      <td>England</td>\n",
       "      <td>Clitheroe</td>\n",
       "      <td>XXX</td>\n",
       "      <td>...</td>\n",
       "      <td>3</td>\n",
       "      <td>278</td>\n",
       "      <td>1</td>\n",
       "      <td>Europe/London</td>\n",
       "      <td>5</td>\n",
       "      <td>080000017C3559576000FE9228BA20150C3C0055011611...</td>\n",
       "      <td>A671</td>\n",
       "      <td>16072.340</td>\n",
       "      <td>NaN</td>\n",
       "      <td>NaN</td>\n",
       "    </tr>\n",
       "    <tr>\n",
       "      <th>24908</th>\n",
       "      <td>STATIONARY</td>\n",
       "      <td>85</td>\n",
       "      <td>16</td>\n",
       "      <td>Stationary</td>\n",
       "      <td>97</td>\n",
       "      <td>True</td>\n",
       "      <td>-2.3975750, 53.8250300</td>\n",
       "      <td>England</td>\n",
       "      <td>Clitheroe</td>\n",
       "      <td>XXX</td>\n",
       "      <td>...</td>\n",
       "      <td>3</td>\n",
       "      <td>278</td>\n",
       "      <td>1</td>\n",
       "      <td>Europe/London</td>\n",
       "      <td>5</td>\n",
       "      <td>080000017C355A41C000FE9228BA20150C3C0055011610...</td>\n",
       "      <td>A671</td>\n",
       "      <td>16072.340</td>\n",
       "      <td>NaN</td>\n",
       "      <td>NaN</td>\n",
       "    </tr>\n",
       "    <tr>\n",
       "      <th>24909</th>\n",
       "      <td>IDLE_END</td>\n",
       "      <td>85</td>\n",
       "      <td>17</td>\n",
       "      <td>Idle End</td>\n",
       "      <td>97</td>\n",
       "      <td>True</td>\n",
       "      <td>-2.3975750, 53.8250300</td>\n",
       "      <td>England</td>\n",
       "      <td>Clitheroe</td>\n",
       "      <td>XXX</td>\n",
       "      <td>...</td>\n",
       "      <td>3</td>\n",
       "      <td>278</td>\n",
       "      <td>1</td>\n",
       "      <td>Europe/London</td>\n",
       "      <td>50</td>\n",
       "      <td>080000017C355AFD4000FE9228BA20150C3C0055011611...</td>\n",
       "      <td>A671</td>\n",
       "      <td>16072.340</td>\n",
       "      <td>NaN</td>\n",
       "      <td>NaN</td>\n",
       "    </tr>\n",
       "    <tr>\n",
       "      <th>24910</th>\n",
       "      <td>IGNITION_OFF</td>\n",
       "      <td>85</td>\n",
       "      <td>17</td>\n",
       "      <td>Ignition Off</td>\n",
       "      <td>97</td>\n",
       "      <td>True</td>\n",
       "      <td>-2.3975750, 53.8250300</td>\n",
       "      <td>England</td>\n",
       "      <td>Clitheroe</td>\n",
       "      <td>XXX</td>\n",
       "      <td>...</td>\n",
       "      <td>3</td>\n",
       "      <td>278</td>\n",
       "      <td>1</td>\n",
       "      <td>Europe/London</td>\n",
       "      <td>500</td>\n",
       "      <td>080000017C355B051001FE9228BA20150C3C0055011611...</td>\n",
       "      <td>A671</td>\n",
       "      <td>16072.340</td>\n",
       "      <td>NaN</td>\n",
       "      <td>NaN</td>\n",
       "    </tr>\n",
       "    <tr>\n",
       "      <th>24911</th>\n",
       "      <td>PRIVATE_MILEAGE_END</td>\n",
       "      <td>85</td>\n",
       "      <td>17</td>\n",
       "      <td>Private Mileage End</td>\n",
       "      <td>97</td>\n",
       "      <td>True</td>\n",
       "      <td>-2.3975750, 53.8250300</td>\n",
       "      <td>England</td>\n",
       "      <td>Clitheroe</td>\n",
       "      <td>XXX</td>\n",
       "      <td>...</td>\n",
       "      <td>3</td>\n",
       "      <td>278</td>\n",
       "      <td>1</td>\n",
       "      <td>Europe/London</td>\n",
       "      <td>9001</td>\n",
       "      <td>080000017C355B051001FE9228BA20150C3C0055011611...</td>\n",
       "      <td>A671</td>\n",
       "      <td>16072.340</td>\n",
       "      <td>NaN</td>\n",
       "      <td>NaN</td>\n",
       "    </tr>\n",
       "  </tbody>\n",
       "</table>\n",
       "<p>24912 rows × 30 columns</p>\n",
       "</div>"
      ],
      "text/plain": [
       "                 eventName  altitude  satellites     eventDescription  \\\n",
       "0              IGNITION_ON       111          17          Ignition On   \n",
       "1               STATIONARY       111          17           Stationary   \n",
       "2                  DRIVING       104          17              Driving   \n",
       "3                  DRIVING        99          17              Driving   \n",
       "4                  DRIVING        98          16              Driving   \n",
       "...                    ...       ...         ...                  ...   \n",
       "24907           STATIONARY        85          17           Stationary   \n",
       "24908           STATIONARY        85          16           Stationary   \n",
       "24909             IDLE_END        85          17             Idle End   \n",
       "24910         IGNITION_OFF        85          17         Ignition Off   \n",
       "24911  PRIVATE_MILEAGE_END        85          17  Private Mileage End   \n",
       "\n",
       "       speedLimitKph  sufficientGpsAccuracy             rawLocation  country  \\\n",
       "0                 48                   True  -2.1619983, 53.4754416  England   \n",
       "1                 48                   True  -2.1619983, 53.4754416  England   \n",
       "2                 48                   True  -2.1619966, 53.4754699  England   \n",
       "3                 48                   True  -2.1620233, 53.4752716  England   \n",
       "4                 48                   True  -2.1615633, 53.4749066  England   \n",
       "...              ...                    ...                     ...      ...   \n",
       "24907             97                   True  -2.3975750, 53.8250300  England   \n",
       "24908             97                   True  -2.3975750, 53.8250300  England   \n",
       "24909             97                   True  -2.3975750, 53.8250300  England   \n",
       "24910             97                   True  -2.3975750, 53.8250300  England   \n",
       "24911             97                   True  -2.3975750, 53.8250300  England   \n",
       "\n",
       "             town driverName  ...  roadSpeed  direction  offroad  \\\n",
       "0      Manchester        XXX  ...          6        349        1   \n",
       "1      Manchester        XXX  ...          6        349        1   \n",
       "2      Manchester        XXX  ...          6        243        1   \n",
       "3      Manchester        XXX  ...          6        119        1   \n",
       "4      Manchester        XXX  ...          6        214        1   \n",
       "...           ...        ...  ...        ...        ...      ...   \n",
       "24907   Clitheroe        XXX  ...          3        278        1   \n",
       "24908   Clitheroe        XXX  ...          3        278        1   \n",
       "24909   Clitheroe        XXX  ...          3        278        1   \n",
       "24910   Clitheroe        XXX  ...          3        278        1   \n",
       "24911   Clitheroe        XXX  ...          3        278        1   \n",
       "\n",
       "            timezone eventNumber  \\\n",
       "0      Europe/London         501   \n",
       "1      Europe/London           5   \n",
       "2      Europe/London           2   \n",
       "3      Europe/London           2   \n",
       "4      Europe/London           2   \n",
       "...              ...         ...   \n",
       "24907  Europe/London           5   \n",
       "24908  Europe/London           5   \n",
       "24909  Europe/London          50   \n",
       "24910  Europe/London         500   \n",
       "24911  Europe/London        9001   \n",
       "\n",
       "                                                 rowData          street  \\\n",
       "0      080000017BEF2F753001FEB61AF11FDFB470006F015D11...       Edge Lane   \n",
       "1      080000017BEF2F7D0000FEB61AF11FDFB470006F015D11...       Edge Lane   \n",
       "2      080000017BEF2FBF6800FEB61B021FDFB58B006800F311...       Edge Lane   \n",
       "3      080000017BEF3001D000FEB619F71FDFADCC0063007711...       Edge Lane   \n",
       "4      080000017BEF30443800FEB62BEF1FDF9F8A006200D610...  Fairfield Road   \n",
       "...                                                  ...             ...   \n",
       "24907  080000017C3559576000FE9228BA20150C3C0055011611...            A671   \n",
       "24908  080000017C355A41C000FE9228BA20150C3C0055011610...            A671   \n",
       "24909  080000017C355AFD4000FE9228BA20150C3C0055011611...            A671   \n",
       "24910  080000017C355B051001FE9228BA20150C3C0055011611...            A671   \n",
       "24911  080000017C355B051001FE9228BA20150C3C0055011611...            A671   \n",
       "\n",
       "        odometer greenDrivingValue greenDrivingEventDuration  \n",
       "0      15064.383               NaN                       NaN  \n",
       "1      15064.383               NaN                       NaN  \n",
       "2      15064.390               NaN                       NaN  \n",
       "3      15064.418               NaN                       NaN  \n",
       "4      15064.485               NaN                       NaN  \n",
       "...          ...               ...                       ...  \n",
       "24907  16072.340               NaN                       NaN  \n",
       "24908  16072.340               NaN                       NaN  \n",
       "24909  16072.340               NaN                       NaN  \n",
       "24910  16072.340               NaN                       NaN  \n",
       "24911  16072.340               NaN                       NaN  \n",
       "\n",
       "[24912 rows x 30 columns]"
      ]
     },
     "execution_count": 40,
     "metadata": {},
     "output_type": "execute_result"
    }
   ],
   "source": [
    "data_df"
   ]
  },
  {
   "cell_type": "code",
   "execution_count": 230,
   "id": "b62843f1-8a50-44c7-a426-ee6762e90bd8",
   "metadata": {},
   "outputs": [],
   "source": [
    "# Uniform sampling per vehicle/device"
   ]
  },
  {
   "cell_type": "code",
   "execution_count": null,
   "id": "9599ad3f-982c-47b1-8364-32ef56b60ad9",
   "metadata": {},
   "outputs": [],
   "source": []
  },
  {
   "cell_type": "code",
   "execution_count": null,
   "id": "8b9259ec-0dbc-479f-b46f-8e7f5674f77a",
   "metadata": {},
   "outputs": [],
   "source": []
  },
  {
   "cell_type": "code",
   "execution_count": null,
   "id": "fe239546-1cd1-4589-b781-22360b34c070",
   "metadata": {},
   "outputs": [],
   "source": []
  },
  {
   "cell_type": "code",
   "execution_count": null,
   "id": "e89e01e3-3ff5-458b-95c3-8e3f2bf740fa",
   "metadata": {},
   "outputs": [],
   "source": []
  }
 ],
 "metadata": {
  "kernelspec": {
   "display_name": "Python 3 (ipykernel)",
   "language": "python",
   "name": "python3"
  },
  "language_info": {
   "codemirror_mode": {
    "name": "ipython",
    "version": 3
   },
   "file_extension": ".py",
   "mimetype": "text/x-python",
   "name": "python",
   "nbconvert_exporter": "python",
   "pygments_lexer": "ipython3",
   "version": "3.9.6"
  }
 },
 "nbformat": 4,
 "nbformat_minor": 5
}
