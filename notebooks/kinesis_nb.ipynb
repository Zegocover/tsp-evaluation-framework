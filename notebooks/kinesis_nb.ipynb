{
 "cells": [
  {
   "cell_type": "markdown",
   "id": "cd10ca48-1372-4ddf-bbf7-1e9577cb903b",
   "metadata": {},
   "source": [
    "# Kinesis TSP Data Quality Assessment (SS, Oct 2021)"
   ]
  },
  {
   "cell_type": "code",
   "execution_count": 10,
   "id": "fa50aba4-7722-4ef1-b3fc-194ed664794d",
   "metadata": {},
   "outputs": [],
   "source": [
    "# Import libraries\n",
    "import numpy as np\n",
    "import pandas as pd\n",
    "import datetime\n",
    "import getpass\n",
    "import psycopg2\n",
    "import os\n",
    "import json\n",
    "import matplotlib.pyplot as plt\n",
    "import matplotlib.cm as cm\n",
    "import matplotlib.colors\n",
    "# from tqdm import tqdm\n",
    "import seaborn as sns"
   ]
  },
  {
   "cell_type": "markdown",
   "id": "5bc15d9e-76fe-4bd9-84d4-75e14748228c",
   "metadata": {},
   "source": [
    "# 1. Kinesis"
   ]
  },
  {
   "cell_type": "code",
   "execution_count": 3,
   "id": "e29e4ab9-0673-4b8f-a3f9-dcc10c4de7a0",
   "metadata": {},
   "outputs": [],
   "source": [
    "# Define variables\n",
    "data_path = '/Users/sven.sabas/projects/tsp-evaluation-framework/data/source/kinesis'\n",
    "data_files = [os.path.join(data_path, file) for file in os.listdir(data_path) if file.endswith('.json')] "
   ]
  },
  {
   "cell_type": "code",
   "execution_count": 4,
   "id": "a75764d6-f7f3-44d7-84c4-0fab95942ffb",
   "metadata": {},
   "outputs": [
    {
     "data": {
      "text/plain": [
       "['/Users/sven.sabas/projects/tsp-evaluation-framework/data/source/kinesis/zego-datadump.json']"
      ]
     },
     "execution_count": 4,
     "metadata": {},
     "output_type": "execute_result"
    }
   ],
   "source": [
    "data_files"
   ]
  },
  {
   "cell_type": "code",
   "execution_count": 31,
   "id": "f84ab08b-efc1-43c9-9307-1d2bca7ed19f",
   "metadata": {},
   "outputs": [
    {
     "data": {
      "text/html": [
       "<div>\n",
       "<style scoped>\n",
       "    .dataframe tbody tr th:only-of-type {\n",
       "        vertical-align: middle;\n",
       "    }\n",
       "\n",
       "    .dataframe tbody tr th {\n",
       "        vertical-align: top;\n",
       "    }\n",
       "\n",
       "    .dataframe thead th {\n",
       "        text-align: right;\n",
       "    }\n",
       "</style>\n",
       "<table border=\"1\" class=\"dataframe\">\n",
       "  <thead>\n",
       "    <tr style=\"text-align: right;\">\n",
       "      <th></th>\n",
       "      <th>flags</th>\n",
       "      <th>ownerId</th>\n",
       "      <th>originId</th>\n",
       "      <th>type</th>\n",
       "      <th>linked</th>\n",
       "      <th>date</th>\n",
       "      <th>received</th>\n",
       "      <th>active</th>\n",
       "      <th>location</th>\n",
       "      <th>zones</th>\n",
       "      <th>routes</th>\n",
       "      <th>state</th>\n",
       "      <th>telemetry</th>\n",
       "      <th>io</th>\n",
       "      <th>spd</th>\n",
       "      <th>meta</th>\n",
       "      <th>assetId</th>\n",
       "      <th>assetName</th>\n",
       "      <th>assetTags</th>\n",
       "    </tr>\n",
       "  </thead>\n",
       "  <tbody>\n",
       "    <tr>\n",
       "      <th>0</th>\n",
       "      <td>0</td>\n",
       "      <td>4e433a0f-5db3-4db9-9604-a4b39ea77e92</td>\n",
       "      <td>a392007d-b3f9-4f01-8a1a-4568773cf3b0</td>\n",
       "      <td>telemetry</td>\n",
       "      <td>[3124435e-c5b0-423e-add8-409444a3e15b]</td>\n",
       "      <td>2021-08-18 13:43:18</td>\n",
       "      <td>2021/08/18 13:43:21</td>\n",
       "      <td>True</td>\n",
       "      <td>{'lon': -8704650, 'lat': 191130948, 'speed': 1...</td>\n",
       "      <td>[]</td>\n",
       "      <td>NaN</td>\n",
       "      <td>NaN</td>\n",
       "      <td>{'priority': 0, 'eventId': 0, 'ignition': 1, '...</td>\n",
       "      <td>NaN</td>\n",
       "      <td>{'rd': 30, 'mx': 30, 'un': 1}</td>\n",
       "      <td>{'dsid': 'deviceserver2@00315b7f7937', 'wshost...</td>\n",
       "      <td>3124435e-c5b0-423e-add8-409444a3e15b</td>\n",
       "      <td>Vehicle 5</td>\n",
       "      <td>[]</td>\n",
       "    </tr>\n",
       "    <tr>\n",
       "      <th>1</th>\n",
       "      <td>0</td>\n",
       "      <td>4e433a0f-5db3-4db9-9604-a4b39ea77e92</td>\n",
       "      <td>a392007d-b3f9-4f01-8a1a-4568773cf3b0</td>\n",
       "      <td>telemetry</td>\n",
       "      <td>[3124435e-c5b0-423e-add8-409444a3e15b]</td>\n",
       "      <td>2021-08-18 13:43:48</td>\n",
       "      <td>2021/08/18 13:43:51</td>\n",
       "      <td>True</td>\n",
       "      <td>{'lon': -8704686, 'lat': 191131151, 'speed': 0...</td>\n",
       "      <td>[]</td>\n",
       "      <td>NaN</td>\n",
       "      <td>NaN</td>\n",
       "      <td>{'priority': 0, 'eventId': 0, 'ignition': 1, '...</td>\n",
       "      <td>NaN</td>\n",
       "      <td>None</td>\n",
       "      <td>{'dsid': 'deviceserver2@00315b7f7937', 'wshost...</td>\n",
       "      <td>3124435e-c5b0-423e-add8-409444a3e15b</td>\n",
       "      <td>Vehicle 5</td>\n",
       "      <td>[]</td>\n",
       "    </tr>\n",
       "    <tr>\n",
       "      <th>2</th>\n",
       "      <td>0</td>\n",
       "      <td>4e433a0f-5db3-4db9-9604-a4b39ea77e92</td>\n",
       "      <td>a392007d-b3f9-4f01-8a1a-4568773cf3b0</td>\n",
       "      <td>telemetry</td>\n",
       "      <td>[3124435e-c5b0-423e-add8-409444a3e15b]</td>\n",
       "      <td>2021-08-18 13:43:57</td>\n",
       "      <td>2021/08/18 13:43:59</td>\n",
       "      <td>True</td>\n",
       "      <td>{'lon': -8704686, 'lat': 191131151, 'speed': 0...</td>\n",
       "      <td>[]</td>\n",
       "      <td>NaN</td>\n",
       "      <td>NaN</td>\n",
       "      <td>{'priority': 0, 'eventId': 250, 'ignition': 1,...</td>\n",
       "      <td>NaN</td>\n",
       "      <td>None</td>\n",
       "      <td>{'dsid': 'deviceserver2@00315b7f7937', 'wshost...</td>\n",
       "      <td>3124435e-c5b0-423e-add8-409444a3e15b</td>\n",
       "      <td>Vehicle 5</td>\n",
       "      <td>[]</td>\n",
       "    </tr>\n",
       "    <tr>\n",
       "      <th>3</th>\n",
       "      <td>0</td>\n",
       "      <td>4e433a0f-5db3-4db9-9604-a4b39ea77e92</td>\n",
       "      <td>a392007d-b3f9-4f01-8a1a-4568773cf3b0</td>\n",
       "      <td>telemetry</td>\n",
       "      <td>[3124435e-c5b0-423e-add8-409444a3e15b]</td>\n",
       "      <td>2021-08-18 13:43:58</td>\n",
       "      <td>2021/08/18 13:44:00</td>\n",
       "      <td>False</td>\n",
       "      <td>{'lon': -8704686, 'lat': 191131151, 'speed': 0...</td>\n",
       "      <td>[]</td>\n",
       "      <td>NaN</td>\n",
       "      <td>NaN</td>\n",
       "      <td>{'priority': 0, 'eventId': 239, 'ignition': 0,...</td>\n",
       "      <td>NaN</td>\n",
       "      <td>None</td>\n",
       "      <td>{'dsid': 'deviceserver2@00315b7f7937', 'wshost...</td>\n",
       "      <td>3124435e-c5b0-423e-add8-409444a3e15b</td>\n",
       "      <td>Vehicle 5</td>\n",
       "      <td>[]</td>\n",
       "    </tr>\n",
       "    <tr>\n",
       "      <th>4</th>\n",
       "      <td>0</td>\n",
       "      <td>4e433a0f-5db3-4db9-9604-a4b39ea77e92</td>\n",
       "      <td>a392007d-b3f9-4f01-8a1a-4568773cf3b0</td>\n",
       "      <td>telemetry</td>\n",
       "      <td>[3124435e-c5b0-423e-add8-409444a3e15b]</td>\n",
       "      <td>2021-08-18 13:43:59</td>\n",
       "      <td>2021/08/18 13:44:00</td>\n",
       "      <td>False</td>\n",
       "      <td>{'lon': -8704686, 'lat': 191131151, 'speed': 0...</td>\n",
       "      <td>[]</td>\n",
       "      <td>NaN</td>\n",
       "      <td>NaN</td>\n",
       "      <td>{'priority': 0, 'eventId': 240, 'ignition': 0,...</td>\n",
       "      <td>NaN</td>\n",
       "      <td>None</td>\n",
       "      <td>{'dsid': 'deviceserver2@00315b7f7937', 'wshost...</td>\n",
       "      <td>3124435e-c5b0-423e-add8-409444a3e15b</td>\n",
       "      <td>Vehicle 5</td>\n",
       "      <td>[]</td>\n",
       "    </tr>\n",
       "    <tr>\n",
       "      <th>...</th>\n",
       "      <td>...</td>\n",
       "      <td>...</td>\n",
       "      <td>...</td>\n",
       "      <td>...</td>\n",
       "      <td>...</td>\n",
       "      <td>...</td>\n",
       "      <td>...</td>\n",
       "      <td>...</td>\n",
       "      <td>...</td>\n",
       "      <td>...</td>\n",
       "      <td>...</td>\n",
       "      <td>...</td>\n",
       "      <td>...</td>\n",
       "      <td>...</td>\n",
       "      <td>...</td>\n",
       "      <td>...</td>\n",
       "      <td>...</td>\n",
       "      <td>...</td>\n",
       "      <td>...</td>\n",
       "    </tr>\n",
       "    <tr>\n",
       "      <th>13469</th>\n",
       "      <td>0</td>\n",
       "      <td>4e433a0f-5db3-4db9-9604-a4b39ea77e92</td>\n",
       "      <td>dd3af48c-b0b5-463e-8e6d-2cab6881096a</td>\n",
       "      <td>telemetry</td>\n",
       "      <td>[eff1dbe8-03b2-442b-9a54-f68c7f430e8c]</td>\n",
       "      <td>2021-08-23 17:55:59</td>\n",
       "      <td>2021/08/23 17:56:02</td>\n",
       "      <td>True</td>\n",
       "      <td>{'lon': -5088192, 'lat': 183624102, 'speed': 6...</td>\n",
       "      <td>[]</td>\n",
       "      <td>NaN</td>\n",
       "      <td>NaN</td>\n",
       "      <td>{'priority': 0, 'eventId': 0, 'gsm_signal': 2,...</td>\n",
       "      <td>NaN</td>\n",
       "      <td>{'rd': 60, 'mx': 60, 'un': 1}</td>\n",
       "      <td>{'dsid': 'deviceserver2@1728ad7449c0', 'wshost...</td>\n",
       "      <td>eff1dbe8-03b2-442b-9a54-f68c7f430e8c</td>\n",
       "      <td>Vehicle 9</td>\n",
       "      <td>[]</td>\n",
       "    </tr>\n",
       "    <tr>\n",
       "      <th>13470</th>\n",
       "      <td>0</td>\n",
       "      <td>4e433a0f-5db3-4db9-9604-a4b39ea77e92</td>\n",
       "      <td>dd3af48c-b0b5-463e-8e6d-2cab6881096a</td>\n",
       "      <td>telemetry</td>\n",
       "      <td>[eff1dbe8-03b2-442b-9a54-f68c7f430e8c]</td>\n",
       "      <td>2021-08-23 17:56:27</td>\n",
       "      <td>2021/08/23 17:56:30</td>\n",
       "      <td>True</td>\n",
       "      <td>{'lon': -5088000, 'lat': 183623933, 'speed': 9...</td>\n",
       "      <td>[]</td>\n",
       "      <td>NaN</td>\n",
       "      <td>NaN</td>\n",
       "      <td>{'priority': 0, 'eventId': 0, 'gsm_signal': 1,...</td>\n",
       "      <td>NaN</td>\n",
       "      <td>{'rd': 60, 'mx': 60, 'un': 1}</td>\n",
       "      <td>{'dsid': 'deviceserver2@1728ad7449c0', 'wshost...</td>\n",
       "      <td>eff1dbe8-03b2-442b-9a54-f68c7f430e8c</td>\n",
       "      <td>Vehicle 9</td>\n",
       "      <td>[]</td>\n",
       "    </tr>\n",
       "    <tr>\n",
       "      <th>13471</th>\n",
       "      <td>0</td>\n",
       "      <td>4e433a0f-5db3-4db9-9604-a4b39ea77e92</td>\n",
       "      <td>dd3af48c-b0b5-463e-8e6d-2cab6881096a</td>\n",
       "      <td>telemetry</td>\n",
       "      <td>[eff1dbe8-03b2-442b-9a54-f68c7f430e8c]</td>\n",
       "      <td>2021-08-23 17:56:57</td>\n",
       "      <td>2021/08/23 17:57:01</td>\n",
       "      <td>True</td>\n",
       "      <td>{'lon': -5076342, 'lat': 183615509, 'speed': 4...</td>\n",
       "      <td>[]</td>\n",
       "      <td>NaN</td>\n",
       "      <td>NaN</td>\n",
       "      <td>{'priority': 0, 'eventId': 0, 'gsm_signal': 2,...</td>\n",
       "      <td>NaN</td>\n",
       "      <td>{'rd': 40, 'mx': 40, 'un': 1}</td>\n",
       "      <td>{'dsid': 'deviceserver2@1728ad7449c0', 'wshost...</td>\n",
       "      <td>eff1dbe8-03b2-442b-9a54-f68c7f430e8c</td>\n",
       "      <td>Vehicle 9</td>\n",
       "      <td>[]</td>\n",
       "    </tr>\n",
       "    <tr>\n",
       "      <th>13472</th>\n",
       "      <td>0</td>\n",
       "      <td>4e433a0f-5db3-4db9-9604-a4b39ea77e92</td>\n",
       "      <td>dd3af48c-b0b5-463e-8e6d-2cab6881096a</td>\n",
       "      <td>telemetry</td>\n",
       "      <td>[eff1dbe8-03b2-442b-9a54-f68c7f430e8c]</td>\n",
       "      <td>2021-08-23 17:57:21</td>\n",
       "      <td>2021/08/23 17:57:25</td>\n",
       "      <td>True</td>\n",
       "      <td>{'lon': -5061282, 'lat': 183612125, 'speed': 5...</td>\n",
       "      <td>[]</td>\n",
       "      <td>NaN</td>\n",
       "      <td>NaN</td>\n",
       "      <td>{'priority': 0, 'eventId': 0, 'gsm_signal': 1,...</td>\n",
       "      <td>NaN</td>\n",
       "      <td>{'rd': 40, 'mx': 40, 'un': 1}</td>\n",
       "      <td>{'dsid': 'deviceserver2@1728ad7449c0', 'wshost...</td>\n",
       "      <td>eff1dbe8-03b2-442b-9a54-f68c7f430e8c</td>\n",
       "      <td>Vehicle 9</td>\n",
       "      <td>[]</td>\n",
       "    </tr>\n",
       "    <tr>\n",
       "      <th>13473</th>\n",
       "      <td>0</td>\n",
       "      <td>4e433a0f-5db3-4db9-9604-a4b39ea77e92</td>\n",
       "      <td>dd3af48c-b0b5-463e-8e6d-2cab6881096a</td>\n",
       "      <td>telemetry</td>\n",
       "      <td>[eff1dbe8-03b2-442b-9a54-f68c7f430e8c]</td>\n",
       "      <td>2021-08-23 17:57:45</td>\n",
       "      <td>2021/08/23 17:58:54</td>\n",
       "      <td>True</td>\n",
       "      <td>{'lon': -5051178, 'lat': 183612671, 'speed': 0...</td>\n",
       "      <td>[]</td>\n",
       "      <td>NaN</td>\n",
       "      <td>NaN</td>\n",
       "      <td>{'priority': 0, 'eventId': 250, 'gsm_signal': ...</td>\n",
       "      <td>NaN</td>\n",
       "      <td>None</td>\n",
       "      <td>{'dsid': 'deviceserver2@1728ad7449c0', 'wshost...</td>\n",
       "      <td>eff1dbe8-03b2-442b-9a54-f68c7f430e8c</td>\n",
       "      <td>Vehicle 9</td>\n",
       "      <td>[]</td>\n",
       "    </tr>\n",
       "  </tbody>\n",
       "</table>\n",
       "<p>13474 rows × 19 columns</p>\n",
       "</div>"
      ],
      "text/plain": [
       "       flags                               ownerId  \\\n",
       "0          0  4e433a0f-5db3-4db9-9604-a4b39ea77e92   \n",
       "1          0  4e433a0f-5db3-4db9-9604-a4b39ea77e92   \n",
       "2          0  4e433a0f-5db3-4db9-9604-a4b39ea77e92   \n",
       "3          0  4e433a0f-5db3-4db9-9604-a4b39ea77e92   \n",
       "4          0  4e433a0f-5db3-4db9-9604-a4b39ea77e92   \n",
       "...      ...                                   ...   \n",
       "13469      0  4e433a0f-5db3-4db9-9604-a4b39ea77e92   \n",
       "13470      0  4e433a0f-5db3-4db9-9604-a4b39ea77e92   \n",
       "13471      0  4e433a0f-5db3-4db9-9604-a4b39ea77e92   \n",
       "13472      0  4e433a0f-5db3-4db9-9604-a4b39ea77e92   \n",
       "13473      0  4e433a0f-5db3-4db9-9604-a4b39ea77e92   \n",
       "\n",
       "                                   originId       type  \\\n",
       "0      a392007d-b3f9-4f01-8a1a-4568773cf3b0  telemetry   \n",
       "1      a392007d-b3f9-4f01-8a1a-4568773cf3b0  telemetry   \n",
       "2      a392007d-b3f9-4f01-8a1a-4568773cf3b0  telemetry   \n",
       "3      a392007d-b3f9-4f01-8a1a-4568773cf3b0  telemetry   \n",
       "4      a392007d-b3f9-4f01-8a1a-4568773cf3b0  telemetry   \n",
       "...                                     ...        ...   \n",
       "13469  dd3af48c-b0b5-463e-8e6d-2cab6881096a  telemetry   \n",
       "13470  dd3af48c-b0b5-463e-8e6d-2cab6881096a  telemetry   \n",
       "13471  dd3af48c-b0b5-463e-8e6d-2cab6881096a  telemetry   \n",
       "13472  dd3af48c-b0b5-463e-8e6d-2cab6881096a  telemetry   \n",
       "13473  dd3af48c-b0b5-463e-8e6d-2cab6881096a  telemetry   \n",
       "\n",
       "                                       linked                date  \\\n",
       "0      [3124435e-c5b0-423e-add8-409444a3e15b] 2021-08-18 13:43:18   \n",
       "1      [3124435e-c5b0-423e-add8-409444a3e15b] 2021-08-18 13:43:48   \n",
       "2      [3124435e-c5b0-423e-add8-409444a3e15b] 2021-08-18 13:43:57   \n",
       "3      [3124435e-c5b0-423e-add8-409444a3e15b] 2021-08-18 13:43:58   \n",
       "4      [3124435e-c5b0-423e-add8-409444a3e15b] 2021-08-18 13:43:59   \n",
       "...                                       ...                 ...   \n",
       "13469  [eff1dbe8-03b2-442b-9a54-f68c7f430e8c] 2021-08-23 17:55:59   \n",
       "13470  [eff1dbe8-03b2-442b-9a54-f68c7f430e8c] 2021-08-23 17:56:27   \n",
       "13471  [eff1dbe8-03b2-442b-9a54-f68c7f430e8c] 2021-08-23 17:56:57   \n",
       "13472  [eff1dbe8-03b2-442b-9a54-f68c7f430e8c] 2021-08-23 17:57:21   \n",
       "13473  [eff1dbe8-03b2-442b-9a54-f68c7f430e8c] 2021-08-23 17:57:45   \n",
       "\n",
       "                  received  active  \\\n",
       "0      2021/08/18 13:43:21    True   \n",
       "1      2021/08/18 13:43:51    True   \n",
       "2      2021/08/18 13:43:59    True   \n",
       "3      2021/08/18 13:44:00   False   \n",
       "4      2021/08/18 13:44:00   False   \n",
       "...                    ...     ...   \n",
       "13469  2021/08/23 17:56:02    True   \n",
       "13470  2021/08/23 17:56:30    True   \n",
       "13471  2021/08/23 17:57:01    True   \n",
       "13472  2021/08/23 17:57:25    True   \n",
       "13473  2021/08/23 17:58:54    True   \n",
       "\n",
       "                                                location zones  routes  state  \\\n",
       "0      {'lon': -8704650, 'lat': 191130948, 'speed': 1...    []     NaN    NaN   \n",
       "1      {'lon': -8704686, 'lat': 191131151, 'speed': 0...    []     NaN    NaN   \n",
       "2      {'lon': -8704686, 'lat': 191131151, 'speed': 0...    []     NaN    NaN   \n",
       "3      {'lon': -8704686, 'lat': 191131151, 'speed': 0...    []     NaN    NaN   \n",
       "4      {'lon': -8704686, 'lat': 191131151, 'speed': 0...    []     NaN    NaN   \n",
       "...                                                  ...   ...     ...    ...   \n",
       "13469  {'lon': -5088192, 'lat': 183624102, 'speed': 6...    []     NaN    NaN   \n",
       "13470  {'lon': -5088000, 'lat': 183623933, 'speed': 9...    []     NaN    NaN   \n",
       "13471  {'lon': -5076342, 'lat': 183615509, 'speed': 4...    []     NaN    NaN   \n",
       "13472  {'lon': -5061282, 'lat': 183612125, 'speed': 5...    []     NaN    NaN   \n",
       "13473  {'lon': -5051178, 'lat': 183612671, 'speed': 0...    []     NaN    NaN   \n",
       "\n",
       "                                               telemetry  io  \\\n",
       "0      {'priority': 0, 'eventId': 0, 'ignition': 1, '... NaN   \n",
       "1      {'priority': 0, 'eventId': 0, 'ignition': 1, '... NaN   \n",
       "2      {'priority': 0, 'eventId': 250, 'ignition': 1,... NaN   \n",
       "3      {'priority': 0, 'eventId': 239, 'ignition': 0,... NaN   \n",
       "4      {'priority': 0, 'eventId': 240, 'ignition': 0,... NaN   \n",
       "...                                                  ...  ..   \n",
       "13469  {'priority': 0, 'eventId': 0, 'gsm_signal': 2,... NaN   \n",
       "13470  {'priority': 0, 'eventId': 0, 'gsm_signal': 1,... NaN   \n",
       "13471  {'priority': 0, 'eventId': 0, 'gsm_signal': 2,... NaN   \n",
       "13472  {'priority': 0, 'eventId': 0, 'gsm_signal': 1,... NaN   \n",
       "13473  {'priority': 0, 'eventId': 250, 'gsm_signal': ... NaN   \n",
       "\n",
       "                                 spd  \\\n",
       "0      {'rd': 30, 'mx': 30, 'un': 1}   \n",
       "1                               None   \n",
       "2                               None   \n",
       "3                               None   \n",
       "4                               None   \n",
       "...                              ...   \n",
       "13469  {'rd': 60, 'mx': 60, 'un': 1}   \n",
       "13470  {'rd': 60, 'mx': 60, 'un': 1}   \n",
       "13471  {'rd': 40, 'mx': 40, 'un': 1}   \n",
       "13472  {'rd': 40, 'mx': 40, 'un': 1}   \n",
       "13473                           None   \n",
       "\n",
       "                                                    meta  \\\n",
       "0      {'dsid': 'deviceserver2@00315b7f7937', 'wshost...   \n",
       "1      {'dsid': 'deviceserver2@00315b7f7937', 'wshost...   \n",
       "2      {'dsid': 'deviceserver2@00315b7f7937', 'wshost...   \n",
       "3      {'dsid': 'deviceserver2@00315b7f7937', 'wshost...   \n",
       "4      {'dsid': 'deviceserver2@00315b7f7937', 'wshost...   \n",
       "...                                                  ...   \n",
       "13469  {'dsid': 'deviceserver2@1728ad7449c0', 'wshost...   \n",
       "13470  {'dsid': 'deviceserver2@1728ad7449c0', 'wshost...   \n",
       "13471  {'dsid': 'deviceserver2@1728ad7449c0', 'wshost...   \n",
       "13472  {'dsid': 'deviceserver2@1728ad7449c0', 'wshost...   \n",
       "13473  {'dsid': 'deviceserver2@1728ad7449c0', 'wshost...   \n",
       "\n",
       "                                    assetId  assetName assetTags  \n",
       "0      3124435e-c5b0-423e-add8-409444a3e15b  Vehicle 5        []  \n",
       "1      3124435e-c5b0-423e-add8-409444a3e15b  Vehicle 5        []  \n",
       "2      3124435e-c5b0-423e-add8-409444a3e15b  Vehicle 5        []  \n",
       "3      3124435e-c5b0-423e-add8-409444a3e15b  Vehicle 5        []  \n",
       "4      3124435e-c5b0-423e-add8-409444a3e15b  Vehicle 5        []  \n",
       "...                                     ...        ...       ...  \n",
       "13469  eff1dbe8-03b2-442b-9a54-f68c7f430e8c  Vehicle 9        []  \n",
       "13470  eff1dbe8-03b2-442b-9a54-f68c7f430e8c  Vehicle 9        []  \n",
       "13471  eff1dbe8-03b2-442b-9a54-f68c7f430e8c  Vehicle 9        []  \n",
       "13472  eff1dbe8-03b2-442b-9a54-f68c7f430e8c  Vehicle 9        []  \n",
       "13473  eff1dbe8-03b2-442b-9a54-f68c7f430e8c  Vehicle 9        []  \n",
       "\n",
       "[13474 rows x 19 columns]"
      ]
     },
     "execution_count": 31,
     "metadata": {},
     "output_type": "execute_result"
    }
   ],
   "source": [
    "# Pull the data\n",
    "data_df = pd.concat([pd.read_json(file) for file in data_files], ignore_index = True)\n",
    "data_df"
   ]
  },
  {
   "cell_type": "code",
   "execution_count": null,
   "id": "62bf735b-46ac-4f5b-ad21-cb0cfeb511bb",
   "metadata": {},
   "outputs": [],
   "source": [
    "# To JSON\n",
    "with open(data_files[0]) as f:\n",
    "  data_json = json.load(f)"
   ]
  },
  {
   "cell_type": "code",
   "execution_count": 8,
   "id": "98bd96cb-3053-419e-8dd3-6a9d632e9701",
   "metadata": {},
   "outputs": [
    {
     "data": {
      "text/plain": [
       "telemetry    13474\n",
       "Name: type, dtype: int64"
      ]
     },
     "execution_count": 8,
     "metadata": {},
     "output_type": "execute_result"
    }
   ],
   "source": [
    "# Types of data\n",
    "data_df.type.value_counts()"
   ]
  },
  {
   "cell_type": "code",
   "execution_count": 32,
   "id": "a8343214-b1a0-4ca7-8b4a-d18a00d36f7c",
   "metadata": {},
   "outputs": [],
   "source": [
    "# Adjust the timestamps\n",
    "data_df['date'] = pd.to_datetime(data_df['date'])\n",
    "data_df['received'] = pd.to_datetime(data_df['received'])"
   ]
  },
  {
   "cell_type": "code",
   "execution_count": 33,
   "id": "82a6c2ca-a683-46a8-8164-f269e26932b9",
   "metadata": {},
   "outputs": [
    {
     "name": "stdout",
     "output_type": "stream",
     "text": [
      "Min date 2021-08-18 13:43:18,       \n",
      "Max date 2021-08-26 13:38:38,       \n",
      "Date range 7 days 23:55:20\n"
     ]
    }
   ],
   "source": [
    "# Daterange\n",
    "print(f'Min date {data_df.date.min()}, \\\n",
    "      \\nMax date {data_df.date.max()}, \\\n",
    "      \\nDate range {data_df.date.max() - data_df.date.min()}')"
   ]
  },
  {
   "cell_type": "code",
   "execution_count": 16,
   "id": "9aff314f-2768-43bb-9018-04f60debdd62",
   "metadata": {},
   "outputs": [
    {
     "data": {
      "text/plain": [
       "Vehicle 9     2593\n",
       "Vehicle 2     2361\n",
       "Vehicle 6     2346\n",
       "Vehicle 10    2238\n",
       "Vehicle 4     1256\n",
       "Vehicle 3     1151\n",
       "Vehicle 5      748\n",
       "Vehicle 8      657\n",
       "Vehicle 1      124\n",
       "Name: assetName, dtype: int64"
      ]
     },
     "execution_count": 16,
     "metadata": {},
     "output_type": "execute_result"
    }
   ],
   "source": [
    "# Vehicles\n",
    "data_df['assetName'].value_counts()"
   ]
  },
  {
   "cell_type": "code",
   "execution_count": 26,
   "id": "2b04f70c-196d-4a3b-861f-bb668ea7b62c",
   "metadata": {},
   "outputs": [
    {
     "data": {
      "text/plain": [
       "Text(0.5, 0, 'Time Interval (Seconds)')"
      ]
     },
     "execution_count": 26,
     "metadata": {},
     "output_type": "execute_result"
    },
    {
     "data": {
      "image/png": "[encoded data removed]",
      "text/plain": [
       "<Figure size 432x288 with 1 Axes>"
      ]
     },
     "metadata": {
      "needs_background": "light"
     },
     "output_type": "display_data"
    }
   ],
   "source": [
    "#  Histogram of heartbeat frequencies\n",
    "plt.hist(\n",
    "    data_df.date.diff() / np.timedelta64(1, 's'),\n",
    "    range=[0, 100], \n",
    "    bins=100\n",
    ")\n",
    "plt.title('Histogram of Event Time Intervals')\n",
    "plt.xlabel('Time Interval (Seconds)')"
   ]
  },
  {
   "cell_type": "code",
   "execution_count": 30,
   "id": "ef3ac64f-f677-442d-9116-74b574ec7b0c",
   "metadata": {},
   "outputs": [
    {
     "data": {
      "text/plain": [
       "0        2021/08/18 13:43:21\n",
       "1        2021/08/18 13:43:51\n",
       "2        2021/08/18 13:43:59\n",
       "3        2021/08/18 13:44:00\n",
       "4        2021/08/18 13:44:00\n",
       "                ...         \n",
       "13469    2021/08/23 17:56:02\n",
       "13470    2021/08/23 17:56:30\n",
       "13471    2021/08/23 17:57:01\n",
       "13472    2021/08/23 17:57:25\n",
       "13473    2021/08/23 17:58:54\n",
       "Name: received, Length: 13474, dtype: object"
      ]
     },
     "execution_count": 30,
     "metadata": {},
     "output_type": "execute_result"
    }
   ],
   "source": [
    "data_df.received"
   ]
  },
  {
   "cell_type": "code",
   "execution_count": 37,
   "id": "bb14852e-2204-4915-82a0-8dfeb1cd4f88",
   "metadata": {},
   "outputs": [
    {
     "data": {
      "text/plain": [
       "Text(0.5, 0, 'Time (Seconds)')"
      ]
     },
     "execution_count": 37,
     "metadata": {},
     "output_type": "execute_result"
    },
    {
     "data": {
      "image/png": "[encoded data removed]",
      "text/plain": [
       "<Figure size 432x288 with 1 Axes>"
      ]
     },
     "metadata": {
      "needs_background": "light"
     },
     "output_type": "display_data"
    }
   ],
   "source": [
    "#  Histogram of GPS location frequencies\n",
    "plt.hist(\n",
    "    (data_df.received - data_df.date) / np.timedelta64(1, 's'),\n",
    "    # range=[0, 100], \n",
    "    bins=100\n",
    ")\n",
    "plt.title('Histogram of Data Transfer Speed')\n",
    "plt.xlabel('Time (Seconds)')"
   ]
  },
  {
   "cell_type": "code",
   "execution_count": 230,
   "id": "b62843f1-8a50-44c7-a426-ee6762e90bd8",
   "metadata": {},
   "outputs": [],
   "source": [
    "# Uniform sampling per vehicle/device"
   ]
  },
  {
   "cell_type": "code",
   "execution_count": null,
   "id": "9599ad3f-982c-47b1-8364-32ef56b60ad9",
   "metadata": {},
   "outputs": [],
   "source": []
  },
  {
   "cell_type": "code",
   "execution_count": null,
   "id": "8b9259ec-0dbc-479f-b46f-8e7f5674f77a",
   "metadata": {},
   "outputs": [],
   "source": []
  },
  {
   "cell_type": "code",
   "execution_count": null,
   "id": "810312a9-3fb7-4cb5-9dff-0b77c84fd22a",
   "metadata": {},
   "outputs": [],
   "source": []
  },
  {
   "cell_type": "code",
   "execution_count": null,
   "id": "fe239546-1cd1-4589-b781-22360b34c070",
   "metadata": {},
   "outputs": [],
   "source": []
  },
  {
   "cell_type": "code",
   "execution_count": null,
   "id": "e89e01e3-3ff5-458b-95c3-8e3f2bf740fa",
   "metadata": {},
   "outputs": [],
   "source": []
  }
 ],
 "metadata": {
  "kernelspec": {
   "display_name": "Python 3 (ipykernel)",
   "language": "python",
   "name": "python3"
  },
  "language_info": {
   "codemirror_mode": {
    "name": "ipython",
    "version": 3
   },
   "file_extension": ".py",
   "mimetype": "text/x-python",
   "name": "python",
   "nbconvert_exporter": "python",
   "pygments_lexer": "ipython3",
   "version": "3.9.6"
  }
 },
 "nbformat": 4,
 "nbformat_minor": 5
}
