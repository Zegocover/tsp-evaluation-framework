{
 "cells": [
  {
   "cell_type": "markdown",
   "id": "cd10ca48-1372-4ddf-bbf7-1e9577cb903b",
   "metadata": {},
   "source": [
    "# Kasava TSP Data Quality Assessment (SS, Oct 2021)"
   ]
  },
  {
   "cell_type": "code",
   "execution_count": 1,
   "id": "fa50aba4-7722-4ef1-b3fc-194ed664794d",
   "metadata": {},
   "outputs": [],
   "source": [
    "# Import libraries\n",
    "import numpy as np\n",
    "import pandas as pd\n",
    "import datetime\n",
    "import getpass\n",
    "import psycopg2\n",
    "import os\n",
    "import json\n",
    "import matplotlib.pyplot as plt\n",
    "import matplotlib.cm as cm\n",
    "import matplotlib.colors\n",
    "# from tqdm import tqdm\n",
    "import seaborn as sns"
   ]
  },
  {
   "cell_type": "markdown",
   "id": "5bc15d9e-76fe-4bd9-84d4-75e14748228c",
   "metadata": {},
   "source": [
    "# 1. Kasava"
   ]
  },
  {
   "cell_type": "code",
   "execution_count": 2,
   "id": "e29e4ab9-0673-4b8f-a3f9-dcc10c4de7a0",
   "metadata": {},
   "outputs": [],
   "source": [
    "# Define variables\n",
    "data_path = '/Users/sven.sabas/projects/tsp-evaluation-framework/data/source/kasava/ZegoSolution/'\n",
    "data_files = [os.path.join(dirpath,filename) for dirpath, _, filenames in os.walk(data_path) for filename in filenames if filename.endswith('.csv')]"
   ]
  },
  {
   "cell_type": "code",
   "execution_count": 3,
   "id": "f84ab08b-efc1-43c9-9307-1d2bca7ed19f",
   "metadata": {},
   "outputs": [
    {
     "data": {
      "text/html": [
       "<div>\n",
       "<style scoped>\n",
       "    .dataframe tbody tr th:only-of-type {\n",
       "        vertical-align: middle;\n",
       "    }\n",
       "\n",
       "    .dataframe tbody tr th {\n",
       "        vertical-align: top;\n",
       "    }\n",
       "\n",
       "    .dataframe thead th {\n",
       "        text-align: right;\n",
       "    }\n",
       "</style>\n",
       "<table border=\"1\" class=\"dataframe\">\n",
       "  <thead>\n",
       "    <tr style=\"text-align: right;\">\n",
       "      <th></th>\n",
       "      <th>DateTime</th>\n",
       "      <th>LocDateTime</th>\n",
       "      <th>Lat</th>\n",
       "      <th>Lng</th>\n",
       "      <th>Speed</th>\n",
       "      <th>Head</th>\n",
       "      <th>Alt</th>\n",
       "      <th>Acu</th>\n",
       "      <th>Xmax</th>\n",
       "      <th>Ymax</th>\n",
       "      <th>Zmax</th>\n",
       "      <th>EventCode</th>\n",
       "    </tr>\n",
       "  </thead>\n",
       "  <tbody>\n",
       "    <tr>\n",
       "      <th>0</th>\n",
       "      <td>2021-10-05-07-51-55-83</td>\n",
       "      <td>2021-10-05-07-51-55-00</td>\n",
       "      <td>5127.6839</td>\n",
       "      <td>-10.8501</td>\n",
       "      <td>0.79</td>\n",
       "      <td>102.7</td>\n",
       "      <td>25.4</td>\n",
       "      <td>7.8</td>\n",
       "      <td>90</td>\n",
       "      <td>76</td>\n",
       "      <td>115</td>\n",
       "      <td>0</td>\n",
       "    </tr>\n",
       "    <tr>\n",
       "      <th>1</th>\n",
       "      <td>2021-10-05-07-51-56-83</td>\n",
       "      <td>2021-10-05-07-51-55-00</td>\n",
       "      <td>5127.6839</td>\n",
       "      <td>-10.8501</td>\n",
       "      <td>0.79</td>\n",
       "      <td>102.7</td>\n",
       "      <td>25.4</td>\n",
       "      <td>7.8</td>\n",
       "      <td>59</td>\n",
       "      <td>-129</td>\n",
       "      <td>-44</td>\n",
       "      <td>0</td>\n",
       "    </tr>\n",
       "    <tr>\n",
       "      <th>2</th>\n",
       "      <td>2021-10-05-07-51-57-83</td>\n",
       "      <td>2021-10-05-07-51-57-00</td>\n",
       "      <td>5127.6847</td>\n",
       "      <td>-10.8487</td>\n",
       "      <td>1.80</td>\n",
       "      <td>43.0</td>\n",
       "      <td>24.2</td>\n",
       "      <td>7.1</td>\n",
       "      <td>75</td>\n",
       "      <td>161</td>\n",
       "      <td>56</td>\n",
       "      <td>0</td>\n",
       "    </tr>\n",
       "    <tr>\n",
       "      <th>3</th>\n",
       "      <td>2021-10-05-07-51-58-83</td>\n",
       "      <td>2021-10-05-07-51-58-00</td>\n",
       "      <td>5127.6849</td>\n",
       "      <td>-10.8477</td>\n",
       "      <td>0.00</td>\n",
       "      <td>43.0</td>\n",
       "      <td>23.1</td>\n",
       "      <td>6.5</td>\n",
       "      <td>59</td>\n",
       "      <td>74</td>\n",
       "      <td>-23</td>\n",
       "      <td>0</td>\n",
       "    </tr>\n",
       "    <tr>\n",
       "      <th>4</th>\n",
       "      <td>2021-10-05-07-51-59-84</td>\n",
       "      <td>2021-10-05-07-51-59-00</td>\n",
       "      <td>5127.6835</td>\n",
       "      <td>-10.8505</td>\n",
       "      <td>0.43</td>\n",
       "      <td>43.0</td>\n",
       "      <td>26.3</td>\n",
       "      <td>5.4</td>\n",
       "      <td>59</td>\n",
       "      <td>74</td>\n",
       "      <td>20</td>\n",
       "      <td>0</td>\n",
       "    </tr>\n",
       "    <tr>\n",
       "      <th>...</th>\n",
       "      <td>...</td>\n",
       "      <td>...</td>\n",
       "      <td>...</td>\n",
       "      <td>...</td>\n",
       "      <td>...</td>\n",
       "      <td>...</td>\n",
       "      <td>...</td>\n",
       "      <td>...</td>\n",
       "      <td>...</td>\n",
       "      <td>...</td>\n",
       "      <td>...</td>\n",
       "      <td>...</td>\n",
       "    </tr>\n",
       "    <tr>\n",
       "      <th>8583071</th>\n",
       "      <td>2021-10-11-22-54-14-14</td>\n",
       "      <td>2021-10-11-22-54-14-00</td>\n",
       "      <td>5123.7305</td>\n",
       "      <td>-6.9063</td>\n",
       "      <td>0.00</td>\n",
       "      <td>353.1</td>\n",
       "      <td>41.5</td>\n",
       "      <td>3.0</td>\n",
       "      <td>44</td>\n",
       "      <td>35</td>\n",
       "      <td>-8</td>\n",
       "      <td>0</td>\n",
       "    </tr>\n",
       "    <tr>\n",
       "      <th>8583072</th>\n",
       "      <td>2021-10-11-22-54-15-14</td>\n",
       "      <td>2021-10-11-22-54-15-00</td>\n",
       "      <td>5123.7305</td>\n",
       "      <td>-6.9063</td>\n",
       "      <td>0.00</td>\n",
       "      <td>353.1</td>\n",
       "      <td>41.5</td>\n",
       "      <td>2.8</td>\n",
       "      <td>44</td>\n",
       "      <td>33</td>\n",
       "      <td>-18</td>\n",
       "      <td>0</td>\n",
       "    </tr>\n",
       "    <tr>\n",
       "      <th>8583073</th>\n",
       "      <td>2021-10-11-22-54-16-14</td>\n",
       "      <td>2021-10-11-22-54-16-00</td>\n",
       "      <td>5123.7305</td>\n",
       "      <td>-6.9063</td>\n",
       "      <td>0.00</td>\n",
       "      <td>353.1</td>\n",
       "      <td>41.5</td>\n",
       "      <td>2.8</td>\n",
       "      <td>44</td>\n",
       "      <td>40</td>\n",
       "      <td>-18</td>\n",
       "      <td>0</td>\n",
       "    </tr>\n",
       "    <tr>\n",
       "      <th>8583074</th>\n",
       "      <td>2021-10-11-22-54-17-14</td>\n",
       "      <td>2021-10-11-22-54-17-00</td>\n",
       "      <td>5123.7305</td>\n",
       "      <td>-6.9063</td>\n",
       "      <td>0.00</td>\n",
       "      <td>353.1</td>\n",
       "      <td>41.5</td>\n",
       "      <td>2.9</td>\n",
       "      <td>59</td>\n",
       "      <td>40</td>\n",
       "      <td>11</td>\n",
       "      <td>0</td>\n",
       "    </tr>\n",
       "    <tr>\n",
       "      <th>8583075</th>\n",
       "      <td>2021-10-11-22-54-18-14</td>\n",
       "      <td>2021-10-11-22-54-18-00</td>\n",
       "      <td>5123.7305</td>\n",
       "      <td>-6.9063</td>\n",
       "      <td>0.00</td>\n",
       "      <td>353.1</td>\n",
       "      <td>41.5</td>\n",
       "      <td>2.0</td>\n",
       "      <td>44</td>\n",
       "      <td>33</td>\n",
       "      <td>-9</td>\n",
       "      <td>0</td>\n",
       "    </tr>\n",
       "  </tbody>\n",
       "</table>\n",
       "<p>8583076 rows × 12 columns</p>\n",
       "</div>"
      ],
      "text/plain": [
       "                       DateTime             LocDateTime        Lat      Lng  \\\n",
       "0        2021-10-05-07-51-55-83  2021-10-05-07-51-55-00  5127.6839 -10.8501   \n",
       "1        2021-10-05-07-51-56-83  2021-10-05-07-51-55-00  5127.6839 -10.8501   \n",
       "2        2021-10-05-07-51-57-83  2021-10-05-07-51-57-00  5127.6847 -10.8487   \n",
       "3        2021-10-05-07-51-58-83  2021-10-05-07-51-58-00  5127.6849 -10.8477   \n",
       "4        2021-10-05-07-51-59-84  2021-10-05-07-51-59-00  5127.6835 -10.8505   \n",
       "...                         ...                     ...        ...      ...   \n",
       "8583071  2021-10-11-22-54-14-14  2021-10-11-22-54-14-00  5123.7305  -6.9063   \n",
       "8583072  2021-10-11-22-54-15-14  2021-10-11-22-54-15-00  5123.7305  -6.9063   \n",
       "8583073  2021-10-11-22-54-16-14  2021-10-11-22-54-16-00  5123.7305  -6.9063   \n",
       "8583074  2021-10-11-22-54-17-14  2021-10-11-22-54-17-00  5123.7305  -6.9063   \n",
       "8583075  2021-10-11-22-54-18-14  2021-10-11-22-54-18-00  5123.7305  -6.9063   \n",
       "\n",
       "         Speed   Head   Alt  Acu  Xmax  Ymax  Zmax  EventCode  \n",
       "0         0.79  102.7  25.4  7.8    90    76   115          0  \n",
       "1         0.79  102.7  25.4  7.8    59  -129   -44          0  \n",
       "2         1.80   43.0  24.2  7.1    75   161    56          0  \n",
       "3         0.00   43.0  23.1  6.5    59    74   -23          0  \n",
       "4         0.43   43.0  26.3  5.4    59    74    20          0  \n",
       "...        ...    ...   ...  ...   ...   ...   ...        ...  \n",
       "8583071   0.00  353.1  41.5  3.0    44    35    -8          0  \n",
       "8583072   0.00  353.1  41.5  2.8    44    33   -18          0  \n",
       "8583073   0.00  353.1  41.5  2.8    44    40   -18          0  \n",
       "8583074   0.00  353.1  41.5  2.9    59    40    11          0  \n",
       "8583075   0.00  353.1  41.5  2.0    44    33    -9          0  \n",
       "\n",
       "[8583076 rows x 12 columns]"
      ]
     },
     "execution_count": 3,
     "metadata": {},
     "output_type": "execute_result"
    }
   ],
   "source": [
    "# Pull the data\n",
    "data_df = pd.concat([pd.read_csv(file) for file in data_files], ignore_index = True)\n",
    "data_df"
   ]
  },
  {
   "cell_type": "code",
   "execution_count": 4,
   "id": "dd9a2fb9-6874-4e85-bcb8-c3b47565577b",
   "metadata": {},
   "outputs": [],
   "source": [
    "# Adjust the timestamps\n",
    "data_df['DateTime'] = pd.to_datetime(data_df['DateTime'], utc=False, format=\"%Y-%m-%d-%H-%M-%S-%f\")#, format=\"%Y-%m-%d-%H-%M-%S-%SS\", errors='coerce')\n",
    "data_df['LocDateTime'] = pd.to_datetime(data_df['LocDateTime'], utc=False, format=\"%Y-%m-%d-%H-%M-%S-%f\")"
   ]
  },
  {
   "cell_type": "code",
   "execution_count": 5,
   "id": "82a6c2ca-a683-46a8-8164-f269e26932b9",
   "metadata": {},
   "outputs": [
    {
     "name": "stdout",
     "output_type": "stream",
     "text": [
      "Min date 2021-09-29 00:04:40.070000,       \n",
      "Max date 2021-10-12 23:58:04.410000,       \n",
      "Date range 13 days 23:53:24.340000\n"
     ]
    }
   ],
   "source": [
    "# Daterange\n",
    "print(f'Min date {data_df.DateTime.min()}, \\\n",
    "      \\nMax date {data_df.DateTime.max()}, \\\n",
    "      \\nDate range {data_df.DateTime.max() - data_df.DateTime.min()}')"
   ]
  },
  {
   "cell_type": "code",
   "execution_count": 6,
   "id": "9aff314f-2768-43bb-9018-04f60debdd62",
   "metadata": {},
   "outputs": [
    {
     "data": {
      "text/plain": [
       "29"
      ]
     },
     "execution_count": 6,
     "metadata": {},
     "output_type": "execute_result"
    }
   ],
   "source": [
    "# Vehicles\n",
    "len([x[0] for x in os.walk(data_path)])-1"
   ]
  },
  {
   "cell_type": "code",
   "execution_count": 7,
   "id": "2b04f70c-196d-4a3b-861f-bb668ea7b62c",
   "metadata": {},
   "outputs": [
    {
     "data": {
      "text/plain": [
       "Text(0.5, 0, 'Time Interval (Seconds)')"
      ]
     },
     "execution_count": 7,
     "metadata": {},
     "output_type": "execute_result"
    },
    {
     "data": {
      "image/png": "[encoded data removed]",
      "text/plain": [
       "<Figure size 432x288 with 1 Axes>"
      ]
     },
     "metadata": {
      "needs_background": "light"
     },
     "output_type": "display_data"
    }
   ],
   "source": [
    "#  Histogram of data captture frequencies\n",
    "plt.hist(\n",
    "    data_df.DateTime.diff() / np.timedelta64(1, 's'),\n",
    "    range=[0, 2], \n",
    "    bins=100\n",
    ")\n",
    "plt.title('Histogram of Event Time Intervals')\n",
    "plt.xlabel('Time Interval (Seconds)')"
   ]
  },
  {
   "cell_type": "code",
   "execution_count": 8,
   "id": "c1e8d2ae-f61c-494b-a055-e27636672a55",
   "metadata": {},
   "outputs": [
    {
     "data": {
      "text/plain": [
       "0    8481719\n",
       "2      66907\n",
       "4      15762\n",
       "1      11060\n",
       "3       7628\n",
       "Name: EventCode, dtype: int64"
      ]
     },
     "execution_count": 8,
     "metadata": {},
     "output_type": "execute_result"
    }
   ],
   "source": [
    "# Event frequencies\n",
    "data_df['EventCode'].value_counts()"
   ]
  },
  {
   "cell_type": "code",
   "execution_count": 9,
   "id": "b62843f1-8a50-44c7-a426-ee6762e90bd8",
   "metadata": {},
   "outputs": [
    {
     "data": {
      "text/plain": [
       "Text(0.5, 0, 'Time Interval (Seconds)')"
      ]
     },
     "execution_count": 9,
     "metadata": {},
     "output_type": "execute_result"
    },
    {
     "data": {
      "image/png": "[encoded data removed]",
      "text/plain": [
       "<Figure size 432x288 with 1 Axes>"
      ]
     },
     "metadata": {
      "needs_background": "light"
     },
     "output_type": "display_data"
    }
   ],
   "source": [
    "#  Histogram of event frequencies\n",
    "plt.hist(\n",
    "    data_df[data_df.EventCode == 2].DateTime.diff() / np.timedelta64(1, 's'),\n",
    "    range=[0, 100], \n",
    "    bins=100\n",
    ")\n",
    "plt.title('Histogram of Event Time Intervals')\n",
    "plt.xlabel('Time Interval (Seconds)')"
   ]
  },
  {
   "cell_type": "code",
   "execution_count": null,
   "id": "1858a951-4242-4510-9be0-d0cf8bb43934",
   "metadata": {},
   "outputs": [],
   "source": []
  },
  {
   "cell_type": "code",
   "execution_count": 14,
   "id": "9599ad3f-982c-47b1-8364-32ef56b60ad9",
   "metadata": {},
   "outputs": [
    {
     "data": {
      "text/plain": [
       "Text(0.5, 0, 'Time Interval (Seconds)')"
      ]
     },
     "execution_count": 14,
     "metadata": {},
     "output_type": "execute_result"
    },
    {
     "data": {
      "image/png": "[encoded data removed]",
      "text/plain": [
       "<Figure size 432x288 with 1 Axes>"
      ]
     },
     "metadata": {
      "needs_background": "light"
     },
     "output_type": "display_data"
    }
   ],
   "source": [
    "#  Histogram of event frequencies\n",
    "plt.hist(\n",
    "    data_df[data_df.EventCode == 1].DateTime.diff() / np.timedelta64(1, 's'),\n",
    "    range=[0, 1000], \n",
    "    bins=100\n",
    ")\n",
    "plt.title('Histogram of Event Time Intervals')\n",
    "plt.xlabel('Time Interval (Seconds)')"
   ]
  },
  {
   "cell_type": "code",
   "execution_count": 15,
   "id": "8b9259ec-0dbc-479f-b46f-8e7f5674f77a",
   "metadata": {},
   "outputs": [
    {
     "data": {
      "text/plain": [
       "Text(0.5, 0, 'Time Interval (Seconds)')"
      ]
     },
     "execution_count": 15,
     "metadata": {},
     "output_type": "execute_result"
    },
    {
     "data": {
      "image/png": "[encoded data removed]",
      "text/plain": [
       "<Figure size 432x288 with 1 Axes>"
      ]
     },
     "metadata": {
      "needs_background": "light"
     },
     "output_type": "display_data"
    }
   ],
   "source": [
    "#  Histogram of event frequencies\n",
    "plt.hist(\n",
    "    data_df[data_df.EventCode == 3].DateTime.diff() / np.timedelta64(1, 's'),\n",
    "    range=[0, 1000], \n",
    "    bins=100\n",
    ")\n",
    "plt.title('Histogram of Event Time Intervals')\n",
    "plt.xlabel('Time Interval (Seconds)')"
   ]
  },
  {
   "cell_type": "code",
   "execution_count": 16,
   "id": "810312a9-3fb7-4cb5-9dff-0b77c84fd22a",
   "metadata": {},
   "outputs": [
    {
     "data": {
      "text/plain": [
       "Text(0.5, 0, 'Time Interval (Seconds)')"
      ]
     },
     "execution_count": 16,
     "metadata": {},
     "output_type": "execute_result"
    },
    {
     "data": {
      "image/png": "[encoded data removed]",
      "text/plain": [
       "<Figure size 432x288 with 1 Axes>"
      ]
     },
     "metadata": {
      "needs_background": "light"
     },
     "output_type": "display_data"
    }
   ],
   "source": [
    "#  Histogram of event frequencies\n",
    "plt.hist(\n",
    "    data_df[data_df.EventCode == 4].DateTime.diff() / np.timedelta64(1, 's'),\n",
    "    range=[0, 1000], \n",
    "    bins=100\n",
    ")\n",
    "plt.title('Histogram of Event Time Intervals')\n",
    "plt.xlabel('Time Interval (Seconds)')"
   ]
  },
  {
   "cell_type": "code",
   "execution_count": 19,
   "id": "fe239546-1cd1-4589-b781-22360b34c070",
   "metadata": {},
   "outputs": [
    {
     "data": {
      "text/plain": [
       "Text(0.5, 0, 'Speed (KMH)')"
      ]
     },
     "execution_count": 19,
     "metadata": {},
     "output_type": "execute_result"
    },
    {
     "data": {
      "image/png": "[encoded data removed]",
      "text/plain": [
       "<Figure size 432x288 with 1 Axes>"
      ]
     },
     "metadata": {
      "needs_background": "light"
     },
     "output_type": "display_data"
    }
   ],
   "source": [
    "#  Histogram of event frequencies\n",
    "plt.hist(\n",
    "    data_df.Speed,\n",
    "    # range=[0, 1000], \n",
    "    bins=100\n",
    ")\n",
    "plt.title('Histogram of Speeding Events')\n",
    "plt.xlabel('Speed (KMH)')"
   ]
  },
  {
   "cell_type": "code",
   "execution_count": 24,
   "id": "e89e01e3-3ff5-458b-95c3-8e3f2bf740fa",
   "metadata": {},
   "outputs": [
    {
     "data": {
      "text/plain": [
       "Text(0.5, 0, 'Force (mG)')"
      ]
     },
     "execution_count": 24,
     "metadata": {},
     "output_type": "execute_result"
    },
    {
     "data": {
      "image/png": "[encoded data removed]",
      "text/plain": [
       "<Figure size 432x288 with 1 Axes>"
      ]
     },
     "metadata": {
      "needs_background": "light"
     },
     "output_type": "display_data"
    }
   ],
   "source": [
    "#  Histogram of event frequencies\n",
    "plt.hist(\n",
    "    data_df.Xmax,\n",
    "    # range=[0, 1000], \n",
    "    bins=100,\n",
    "    label='X'\n",
    ")\n",
    "plt.hist(\n",
    "    data_df.Ymax,\n",
    "    # range=[0, 1000], \n",
    "    bins=100,\n",
    "    label='Y'\n",
    ")\n",
    "plt.hist(\n",
    "    data_df.Zmax,\n",
    "    # range=[0, 1000], \n",
    "    bins=100,\n",
    "    label='Z'\n",
    "\n",
    ")\n",
    "plt.legend(loc='upper right', frameon=False)›\n",
    "plt.title('Histogram of G-forces')\n",
    "plt.xlabel('Force (mG)')"
   ]
  },
  {
   "cell_type": "code",
   "execution_count": null,
   "id": "672355e4-5dbb-4661-8728-f15bef04db1d",
   "metadata": {},
   "outputs": [],
   "source": []
  },
  {
   "cell_type": "code",
   "execution_count": null,
   "id": "cdc6e357-7372-47b5-9493-584a6cc92bc2",
   "metadata": {},
   "outputs": [],
   "source": []
  },
  {
   "cell_type": "code",
   "execution_count": null,
   "id": "2f3e898c-cc23-478b-960d-6f36cda1090a",
   "metadata": {},
   "outputs": [],
   "source": []
  },
  {
   "cell_type": "code",
   "execution_count": null,
   "id": "b333b8a9-4a53-424f-9fb1-b5aafd4a4bec",
   "metadata": {},
   "outputs": [],
   "source": []
  }
 ],
 "metadata": {
  "kernelspec": {
   "display_name": "Python 3 (ipykernel)",
   "language": "python",
   "name": "python3"
  },
  "language_info": {
   "codemirror_mode": {
    "name": "ipython",
    "version": 3
   },
   "file_extension": ".py",
   "mimetype": "text/x-python",
   "name": "python",
   "nbconvert_exporter": "python",
   "pygments_lexer": "ipython3",
   "version": "3.9.6"
  }
 },
 "nbformat": 4,
 "nbformat_minor": 5
}
